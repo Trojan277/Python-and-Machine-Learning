{
 "cells": [
  {
   "cell_type": "code",
   "execution_count": null,
   "metadata": {},
   "outputs": [],
   "source": [
    "# sözlükler\n",
    "aile = {'enes' : 28,\n",
    "        'can' : 34,\n",
    "        'berkay' : 36,\n",
    "        'orhan' : 45}\n",
    "\n",
    "for key, value in aile.items():\n",
    "    print(key + \": \" +str(value) + \" yaşında\")\n",
    "\n",
    "enes: 28 yaşında\n",
    "can: 34 yaşında\n",
    "berkay: 36 yaşında\n",
    "orhan: 45 yaşında\n",
    "\n",
    "# Numpy Dizileri\n",
    "# 1 Boyutlu Dizileri\n",
    "import numpy as np\n",
    "kilo = np.array ([100,95,110,81])\n",
    "boy = np.array ([1.94,1.85,1.75,1.81])\n",
    "\n",
    "vki = kilo / boy**2\n",
    "\n",
    "for değer in vki: \n",
    "    print(round(değer, 2 ))\n",
    "\n",
    "26.57\n",
    "27.76\n",
    "35.92\n",
    "24.72\n",
    "\n",
    "# 2 boyutlu diziler\n",
    "liste = np.array([kilo, boy])\n",
    "\n",
    "for değer in liste :\n",
    "    print(değer)\n",
    "    \n",
    "for değer in np.nditer(liste):\n",
    "    print(değer)\n",
    "\n",
    "[100.  95. 110.  81.]\n",
    "[1.94 1.85 1.75 1.81]\n",
    "100.0\n",
    "95.0\n",
    "110.0\n",
    "81.0\n",
    "1.94\n",
    "1.85\n",
    "1.75\n",
    "1.81"
   ]
  },
  {
   "cell_type": "markdown",
   "metadata": {},
   "source": [
    "Soru 1 : **Sözlükler üzerine döngü oluşturmak için kullanılan metot hangisidir?**"
   ]
  },
  {
   "cell_type": "code",
   "execution_count": 1,
   "metadata": {},
   "outputs": [],
   "source": [
    "#Cevap : items()"
   ]
  },
  {
   "cell_type": "markdown",
   "metadata": {},
   "source": [
    "Soru 2 : **Tek boyutlu Numpy dizisi üzerine bir döngü yazmak için hangi kod kullanılabilir?**"
   ]
  },
  {
   "cell_type": "code",
   "execution_count": 2,
   "metadata": {},
   "outputs": [],
   "source": [
    "#Cevap : for value in array:"
   ]
  },
  {
   "cell_type": "markdown",
   "metadata": {},
   "source": [
    "Soru 3 : **2 boyutlu Numpy dizilerine üzerine döngü yazmak için kullanılması gereken metot hangisidir?**"
   ]
  },
  {
   "cell_type": "code",
   "execution_count": 3,
   "metadata": {},
   "outputs": [],
   "source": [
    "#Cevap : np.nditer()"
   ]
  }
 ],
 "metadata": {
  "kernelspec": {
   "display_name": "Python 3",
   "language": "python",
   "name": "python3"
  },
  "language_info": {
   "codemirror_mode": {
    "name": "ipython",
    "version": 3
   },
   "file_extension": ".py",
   "mimetype": "text/x-python",
   "name": "python",
   "nbconvert_exporter": "python",
   "pygments_lexer": "ipython3",
   "version": "3.8.3"
  }
 },
 "nbformat": 4,
 "nbformat_minor": 4
}
