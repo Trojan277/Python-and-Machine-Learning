{
 "cells": [
  {
   "cell_type": "code",
   "execution_count": 1,
   "metadata": {},
   "outputs": [
    {
     "name": "stdout",
     "output_type": "stream",
     "text": [
      "[0.09310829 0.97165592 0.48385998 0.2425227  0.53112383]\n",
      "[ True False  True  True False]\n"
     ]
    },
    {
     "data": {
      "text/plain": [
       "3"
      ]
     },
     "execution_count": 1,
     "metadata": {},
     "output_type": "execute_result"
    }
   ],
   "source": [
    "# Pes pese 5 defa tura gelme ihtimali nedir?\n",
    "import numpy as np\n",
    "np.random.random()\n",
    "# tura < 0.5\n",
    "# yazi >= 0.5\n",
    "# True veya False\n",
    "\n",
    "np.random.seed(55)\n",
    "rastgele_sayilar = np.random.random(size = 5)\n",
    "print(rastgele_sayilar)\n",
    "tura = rastgele_sayilar < 0.5\n",
    "print(tura)\n",
    "np.sum(tura)"
   ]
  },
  {
   "cell_type": "code",
   "execution_count": 2,
   "metadata": {},
   "outputs": [
    {
     "name": "stdout",
     "output_type": "stream",
     "text": [
      "0.06246\n"
     ]
    }
   ],
   "source": [
    "sonuc = 0\n",
    "\n",
    "for x in range(100000):\n",
    "    tura = np.random.random(size = 4) < 0.5\n",
    "    toplam_tura = np.sum(tura)\n",
    "    if toplam_tura == 4:\n",
    "        sonuc +=1\n",
    "print(sonuc/100000)"
   ]
  },
  {
   "cell_type": "code",
   "execution_count": 3,
   "metadata": {},
   "outputs": [
    {
     "name": "stdout",
     "output_type": "stream",
     "text": [
      "6246\n"
     ]
    }
   ],
   "source": [
    "print(sonuc)"
   ]
  },
  {
   "cell_type": "code",
   "execution_count": null,
   "metadata": {},
   "outputs": [],
   "source": []
  }
 ],
 "metadata": {
  "kernelspec": {
   "display_name": "Python 3",
   "language": "python",
   "name": "python3"
  },
  "language_info": {
   "codemirror_mode": {
    "name": "ipython",
    "version": 3
   },
   "file_extension": ".py",
   "mimetype": "text/x-python",
   "name": "python",
   "nbconvert_exporter": "python",
   "pygments_lexer": "ipython3",
   "version": "3.8.5"
  }
 },
 "nbformat": 4,
 "nbformat_minor": 4
}
