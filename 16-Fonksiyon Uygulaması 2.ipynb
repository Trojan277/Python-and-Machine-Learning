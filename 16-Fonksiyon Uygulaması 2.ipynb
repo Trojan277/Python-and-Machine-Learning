{
 "cells": [
  {
   "cell_type": "code",
   "execution_count": null,
   "metadata": {},
   "outputs": [],
   "source": [
    "# Pandasi getirme\n",
    "import pandas as pd\n",
    "\n",
    "# CSV dosyasini okutmak\n",
    "tweetler = pd.read_csv('tweetler.csv')\n",
    "\n",
    "# Varsayilan parametre\n",
    "def dil_sayma(veriler, dilturu): # Fonksiyon giris kismi // function header\n",
    "    \"\"\"Tweet dili sayma fonksiyonu\"\"\"\n",
    "    dil = {}\n",
    "    sutun = tweetler['lang']\n",
    "    for tweet in sutun:\n",
    "        if tweet in dil.keys():\n",
    "            dil[tweet] += 1\n",
    "        else:\n",
    "            dil[tweet] = 1\n",
    "        return dil"
   ]
  },
  {
   "cell_type": "code",
   "execution_count": null,
   "metadata": {},
   "outputs": [],
   "source": [
    "dil_sayma(tweetler,'lang')"
   ]
  },
  {
   "cell_type": "code",
   "execution_count": null,
   "metadata": {},
   "outputs": [],
   "source": [
    "sorted(tweetler)"
   ]
  },
  {
   "cell_type": "code",
   "execution_count": null,
   "metadata": {},
   "outputs": [],
   "source": [
    "# Varsayilan parametre\n",
    "import pandas as pd\n",
    "tweetler2 = pd.read_csv('tweet.csv)\n",
    "                        \n",
    "def dil_sayma2(veriler2, col_name = 'lang'):  #col_name: varsayilan parametre\n",
    "    \n",
    "    dil2 = {}\n",
    "    sutun = tweetler2[col_name]\n",
    "    \n",
    "    for tweet2 in sutun:\n",
    "        \n",
    "        if tweet2 in dil2.keys():\n",
    "            dil2[tweet2] += 1\n",
    "        else:\n",
    "            dil2[tweet2] = 1\n",
    "    return dil2"
   ]
  },
  {
   "cell_type": "code",
   "execution_count": null,
   "metadata": {},
   "outputs": [],
   "source": [
    "cikti1 = dil_sayma2(tweetler2,col_name='lang')\n",
    "cikti1"
   ]
  },
  {
   "cell_type": "code",
   "execution_count": null,
   "metadata": {},
   "outputs": [],
   "source": [
    "# Esnek parametre\n",
    "import pandas as pd\n",
    "tweetler2 = pd.read_csv('tweet.csv)\n",
    "    \n",
    "def dil_sayma3(veriler3,*args):\n",
    "    \"\"\"Istenilen sutundaki verilere ulasir\"\"\"\n",
    "    # bos sozluk olusturma\n",
    "    dil3 = {}\n",
    "    # istenilen sutun uzerinde iterasyon yapmak\n",
    "    for sutun_adi in *args:\n",
    "        # sutunu secmek\n",
    "        sutun3 = tweetler[sutunun_adini]\n",
    "        # secilen sutun uzerinde iterasyon\n",
    "        for tweet3 in sutun3:\n",
    "            if tweet3 in dil3.keys():\n",
    "                dil3[tweet3] += 1\n",
    "            else:\n",
    "                dil3[tweet3] = 1\n",
    "        return dil3"
   ]
  },
  {
   "cell_type": "code",
   "execution_count": null,
   "metadata": {},
   "outputs": [],
   "source": [
    "cikti3 = dil_sayma3(tweetler.csv, 'lang')\n",
    "cikti3"
   ]
  }
 ],
 "metadata": {
  "kernelspec": {
   "display_name": "Python 3",
   "language": "python",
   "name": "python3"
  },
  "language_info": {
   "codemirror_mode": {
    "name": "ipython",
    "version": 3
   },
   "file_extension": ".py",
   "mimetype": "text/x-python",
   "name": "python",
   "nbconvert_exporter": "python",
   "pygments_lexer": "ipython3",
   "version": "3.8.5"
  }
 },
 "nbformat": 4,
 "nbformat_minor": 4
}
