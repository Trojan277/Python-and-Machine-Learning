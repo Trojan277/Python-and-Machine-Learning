{
 "cells": [
  {
   "cell_type": "markdown",
   "metadata": {},
   "source": [
    "# Gözetimli Öğrenmeye Giriş"
   ]
  },
  {
   "cell_type": "markdown",
   "metadata": {},
   "source": [
    "Makine ogrenmesinin en onemli alanlarindan birisidir."
   ]
  },
  {
   "cell_type": "markdown",
   "metadata": {},
   "source": [
    "## Makine Ogrenmesi"
   ]
  },
  {
   "cell_type": "markdown",
   "metadata": {},
   "source": [
    "Bilgisayarlara verilere dayanarak ogrenme yetisinin verilmesi"
   ]
  },
  {
   "cell_type": "markdown",
   "metadata": {},
   "source": [
    "- Bir e-postanin spam olup olmadigini anlama\n",
    "- Metin verlerini kategorize etme\n",
    "- Gozetimli ogrenmede siniflandirilmis veri (labeled data) kullanilir."
   ]
  },
  {
   "cell_type": "markdown",
   "metadata": {},
   "source": [
    "## Kavramlar "
   ]
  },
  {
   "cell_type": "markdown",
   "metadata": {},
   "source": [
    "- Features = Predictor Veriables = Inderpendent Veriables \n",
    "- Target Variable = Dependent Veriable = Response Veriable"
   ]
  },
  {
   "cell_type": "markdown",
   "metadata": {},
   "source": [
    "## Kullanimi"
   ]
  },
  {
   "cell_type": "markdown",
   "metadata": {},
   "source": [
    "- Zaman alici veya masrafli islemleri otomasyona baglamak\n",
    "- Gelecek hakkinda tahminde bulunma"
   ]
  },
  {
   "cell_type": "markdown",
   "metadata": {},
   "source": [
    "## Ihtiyac Duyulan Veriler"
   ]
  },
  {
   "cell_type": "markdown",
   "metadata": {},
   "source": [
    "- Hedef degiskeni (target veriable) tanimlanmis olan veri seti\n",
    "- Hedef degiskeni tahmin etmek icin veri seti "
   ]
  },
  {
   "cell_type": "markdown",
   "metadata": {},
   "source": [
    "## Yontem"
   ]
  },
  {
   "cell_type": "markdown",
   "metadata": {},
   "source": [
    "- sckit-learn/sklearn\n",
    "    - SciPy stack ile entegre \n",
    "- TensorFlow\n",
    "- keras"
   ]
  },
  {
   "cell_type": "markdown",
   "metadata": {},
   "source": [
    "Soru 1 : **Gözetimli öğrenme için özellik (feature) ve hedef değişken (target variable) değerleri bilinen örnek veri setine ihtiyaç vardır.**"
   ]
  },
  {
   "cell_type": "code",
   "execution_count": null,
   "metadata": {},
   "outputs": [],
   "source": [
    "#Cevap : Dogru"
   ]
  },
  {
   "cell_type": "markdown",
   "metadata": {},
   "source": [
    "Soru 2 : **Tanımlanmış veri (labeled data) kullanılarak havanın bir hafta daha mı sıcak yoksa daha mı soğuk olacağı bir gözetimli öğrenme problemi olarak düşünebilir.**"
   ]
  },
  {
   "cell_type": "code",
   "execution_count": null,
   "metadata": {},
   "outputs": [],
   "source": [
    "#Cevap : Dogru"
   ]
  }
 ],
 "metadata": {
  "kernelspec": {
   "display_name": "Python 3",
   "language": "python",
   "name": "python3"
  },
  "language_info": {
   "codemirror_mode": {
    "name": "ipython",
    "version": 3
   },
   "file_extension": ".py",
   "mimetype": "text/x-python",
   "name": "python",
   "nbconvert_exporter": "python",
   "pygments_lexer": "ipython3",
   "version": "3.8.5"
  }
 },
 "nbformat": 4,
 "nbformat_minor": 4
}
