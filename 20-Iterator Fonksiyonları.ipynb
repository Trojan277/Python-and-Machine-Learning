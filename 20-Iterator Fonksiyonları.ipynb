{
 "cells": [
  {
   "cell_type": "markdown",
   "metadata": {},
   "source": [
    "### Iterator Fonksiyonları"
   ]
  },
  {
   "cell_type": "markdown",
   "metadata": {},
   "source": [
    "- enumerate() ve zip()"
   ]
  },
  {
   "cell_type": "code",
   "execution_count": 1,
   "metadata": {},
   "outputs": [],
   "source": [
    "liste = ['Ayse','Kaan','Sila','Orkun']"
   ]
  },
  {
   "cell_type": "code",
   "execution_count": 2,
   "metadata": {},
   "outputs": [],
   "source": [
    "liste2 = enumerate(liste)"
   ]
  },
  {
   "cell_type": "code",
   "execution_count": 3,
   "metadata": {},
   "outputs": [
    {
     "data": {
      "text/plain": [
       "enumerate"
      ]
     },
     "execution_count": 3,
     "metadata": {},
     "output_type": "execute_result"
    }
   ],
   "source": [
    "type(liste2)"
   ]
  },
  {
   "cell_type": "code",
   "execution_count": 4,
   "metadata": {},
   "outputs": [
    {
     "data": {
      "text/plain": [
       "[(0, 'Ayse'), (1, 'Kaan'), (2, 'Sila'), (3, 'Orkun')]"
      ]
     },
     "execution_count": 4,
     "metadata": {},
     "output_type": "execute_result"
    }
   ],
   "source": [
    "liste3 = list(liste2)\n",
    "liste3"
   ]
  },
  {
   "cell_type": "code",
   "execution_count": 5,
   "metadata": {},
   "outputs": [
    {
     "name": "stdout",
     "output_type": "stream",
     "text": [
      "0 Ayse\n",
      "1 Kaan\n",
      "2 Sila\n",
      "3 Orkun\n"
     ]
    }
   ],
   "source": [
    "for index,value in enumerate(liste):\n",
    "    print(index,value)"
   ]
  },
  {
   "cell_type": "code",
   "execution_count": 6,
   "metadata": {},
   "outputs": [
    {
     "name": "stdout",
     "output_type": "stream",
     "text": [
      "1 Ayse\n",
      "2 Kaan\n",
      "3 Sila\n",
      "4 Orkun\n"
     ]
    }
   ],
   "source": [
    "for index,value in enumerate(liste, start=1):\n",
    "    print(index,value)"
   ]
  },
  {
   "cell_type": "code",
   "execution_count": 7,
   "metadata": {},
   "outputs": [],
   "source": [
    "liste = ['Ayse','Kaan','Sila','Orkun']\n",
    "liste2 = ['Yenilmez','Korkmaz','Bursa','Koyuncu']"
   ]
  },
  {
   "cell_type": "code",
   "execution_count": 8,
   "metadata": {},
   "outputs": [],
   "source": [
    "liste3 = zip(liste,liste2)"
   ]
  },
  {
   "cell_type": "code",
   "execution_count": 9,
   "metadata": {},
   "outputs": [],
   "source": [
    "liste4 = list(liste3)"
   ]
  },
  {
   "cell_type": "code",
   "execution_count": 10,
   "metadata": {},
   "outputs": [
    {
     "data": {
      "text/plain": [
       "[('Ayse', 'Yenilmez'),\n",
       " ('Kaan', 'Korkmaz'),\n",
       " ('Sila', 'Bursa'),\n",
       " ('Orkun', 'Koyuncu')]"
      ]
     },
     "execution_count": 10,
     "metadata": {},
     "output_type": "execute_result"
    }
   ],
   "source": [
    "liste4"
   ]
  },
  {
   "cell_type": "code",
   "execution_count": 11,
   "metadata": {},
   "outputs": [
    {
     "name": "stdout",
     "output_type": "stream",
     "text": [
      "Ayse Yenilmez\n",
      "Kaan Korkmaz\n",
      "Sila Bursa\n",
      "Orkun Koyuncu\n"
     ]
    }
   ],
   "source": [
    "for a,b in zip(liste,liste2):\n",
    "    print(a,b)"
   ]
  },
  {
   "cell_type": "code",
   "execution_count": 12,
   "metadata": {},
   "outputs": [
    {
     "name": "stdout",
     "output_type": "stream",
     "text": [
      "('Ayse', 'Yenilmez') ('Kaan', 'Korkmaz') ('Sila', 'Bursa') ('Orkun', 'Koyuncu')\n"
     ]
    }
   ],
   "source": [
    "a = zip(liste,liste2)\n",
    "print(*a)"
   ]
  },
  {
   "cell_type": "markdown",
   "metadata": {},
   "source": [
    "Soru 1 : **Aşağıdaki kod bloğunda eksik yerlere yazılması gerekenler hangi seçenekte doğru olarak verilmistir ?**"
   ]
  },
  {
   "cell_type": "code",
   "execution_count": null,
   "metadata": {},
   "outputs": [],
   "source": [
    "liste = ['televizyon', 'araba', 'uçak']\n",
    "liste2 = enumerate(____)\n",
    " \n",
    "print(list(___))"
   ]
  },
  {
   "cell_type": "code",
   "execution_count": 13,
   "metadata": {},
   "outputs": [],
   "source": [
    "#Cevap : liste , liste2"
   ]
  },
  {
   "cell_type": "markdown",
   "metadata": {},
   "source": [
    "Soru 2 : **enumerate( ) fonksiyonu kullanılırken varsayılan index değeri değiştirilmek istendiğinde hangi parametre kullanılır?**"
   ]
  },
  {
   "cell_type": "code",
   "execution_count": 16,
   "metadata": {},
   "outputs": [],
   "source": [
    "#Cevap : start"
   ]
  },
  {
   "cell_type": "markdown",
   "metadata": {},
   "source": [
    "Soru 3 : **Verilen iki listeyi birleştirmek liste değişkenine atadıktan sonra yazdırmak için yazılması gereken kod hangisidir?**"
   ]
  },
  {
   "cell_type": "code",
   "execution_count": 20,
   "metadata": {},
   "outputs": [],
   "source": [
    "kelime = ['dünya','ay','mars']\n",
    "sayi = ['12343', '54098', '54643']"
   ]
  },
  {
   "cell_type": "code",
   "execution_count": null,
   "metadata": {},
   "outputs": [],
   "source": [
    "#Cevap : \n",
    "#   liste = zip(kelime,sayi)\n",
    "#   liste2 = list(liste)\n",
    "#   print(liste2)"
   ]
  }
 ],
 "metadata": {
  "kernelspec": {
   "display_name": "Python 3",
   "language": "python",
   "name": "python3"
  },
  "language_info": {
   "codemirror_mode": {
    "name": "ipython",
    "version": 3
   },
   "file_extension": ".py",
   "mimetype": "text/x-python",
   "name": "python",
   "nbconvert_exporter": "python",
   "pygments_lexer": "ipython3",
   "version": "3.8.5"
  }
 },
 "nbformat": 4,
 "nbformat_minor": 4
}
