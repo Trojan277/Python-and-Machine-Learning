{
 "cells": [
  {
   "cell_type": "code",
   "execution_count": null,
   "metadata": {},
   "outputs": [],
   "source": [
    "# Pandasi getirme\n",
    "import pandas as pd\n",
    "\n",
    "# CSV dosyasini okutmak\n",
    "tweetler = pd.read_csv('tweet.csv')"
   ]
  },
  {
   "cell_type": "code",
   "execution_count": null,
   "metadata": {},
   "outputs": [],
   "source": [
    "# Sozluk olusturma\n",
    "tweet_dili = []"
   ]
  },
  {
   "cell_type": "code",
   "execution_count": null,
   "metadata": {},
   "outputs": [],
   "source": [
    "# Sutun secme\n",
    "dil_sutunu = tweetler['lang']"
   ]
  },
  {
   "cell_type": "code",
   "execution_count": null,
   "metadata": {},
   "outputs": [],
   "source": [
    "# for dongusu yazmak\n",
    "for tweet in dil_sutunu:\n",
    "    if tweet in tweet_dili.keys():\n",
    "        tweet_dili[tweet] += 1\n",
    "    else:\n",
    "        tweet_dili[tweet] = 1\n",
    "print(tweet_dili)"
   ]
  },
  {
   "cell_type": "code",
   "execution_count": null,
   "metadata": {},
   "outputs": [],
   "source": [
    "# Fonksiyon ile yapmak\n",
    "def dil_sayma(veriler, dilturu): # Fonksiyon giris kismi // function header\n",
    "    \"\"\"Tweet dili sayma fonksiyonu\"\"\"\n",
    "    dil = {}\n",
    "    sutun = tweetler['lang']\n",
    "    for tweet in sutun:\n",
    "        if tweet in dil.keys():\n",
    "            dil[tweet] += 1\n",
    "        else:\n",
    "            dil[tweet] = 1\n",
    "        return dil\n",
    "print(dil_sayma(tweetler, 'lang'))"
   ]
  }
 ],
 "metadata": {
  "kernelspec": {
   "display_name": "Python 3",
   "language": "python",
   "name": "python3"
  },
  "language_info": {
   "codemirror_mode": {
    "name": "ipython",
    "version": 3
   },
   "file_extension": ".py",
   "mimetype": "text/x-python",
   "name": "python",
   "nbconvert_exporter": "python",
   "pygments_lexer": "ipython3",
   "version": "3.8.5"
  }
 },
 "nbformat": 4,
 "nbformat_minor": 4
}
