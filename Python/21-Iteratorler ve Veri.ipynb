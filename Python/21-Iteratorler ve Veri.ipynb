{
 "cells": [
  {
   "cell_type": "code",
   "execution_count": null,
   "metadata": {},
   "outputs": [],
   "source": [
    "# Pandas\n",
    "import pandas as pd\n",
    "\n",
    "toplam = []\n",
    "\n",
    "for sayilar in pd.read_csv('sayi.csv', chunksize = 1000):\n",
    "    toplam.append(sum(sayilar['sayi']))"
   ]
  },
  {
   "cell_type": "code",
   "execution_count": null,
   "metadata": {},
   "outputs": [],
   "source": [
    "print(toplam)"
   ]
  },
  {
   "cell_type": "markdown",
   "metadata": {},
   "source": [
    "[5464, 5456, 5464, 5456, 5459, 5463, 5452, 5468, 5452, 5466]"
   ]
  },
  {
   "cell_type": "code",
   "execution_count": null,
   "metadata": {},
   "outputs": [],
   "source": [
    "toplam2 = sum(toplam)\n",
    "toplam2"
   ]
  },
  {
   "cell_type": "markdown",
   "metadata": {},
   "source": [
    "54600"
   ]
  },
  {
   "cell_type": "code",
   "execution_count": null,
   "metadata": {},
   "outputs": [],
   "source": [
    "total = 0\n",
    "\n",
    "for x in pd.read_csv('sayi.csv', chunksize = 1000):\n",
    "    total += sum(x['sayi'])\n",
    "    \n",
    "print(total)"
   ]
  },
  {
   "cell_type": "markdown",
   "metadata": {},
   "source": [
    "54600"
   ]
  },
  {
   "cell_type": "markdown",
   "metadata": {},
   "source": [
    "Soru 1 : **for döngüsü içerisinde chunksize kullanımı hangi seçenekte doğru verilmiştir?**"
   ]
  },
  {
   "attachments": {
    "Adsz%20%283%29.png": {
     "image/png": "[encoded data removed]"
    }
   },
   "cell_type": "markdown",
   "metadata": {},
   "source": [
    "![Adsz%20%283%29.png](attachment:Adsz%20%283%29.png)"
   ]
  },
  {
   "attachments": {
    "sd.png": {
     "image/png": "[encoded data removed]"
    }
   },
   "cell_type": "markdown",
   "metadata": {},
   "source": [
    "Cevap : \n",
    "![sd.png](attachment:sd.png)"
   ]
  },
  {
   "cell_type": "markdown",
   "metadata": {},
   "source": [
    "Soru 2 : **Chunksize parametresi hangi amaçla kullanılır?**"
   ]
  },
  {
   "cell_type": "code",
   "execution_count": 3,
   "metadata": {},
   "outputs": [],
   "source": [
    "#Cevap : Verileri tanimlanan parcalar halinde cagirmak icin"
   ]
  },
  {
   "cell_type": "markdown",
   "metadata": {},
   "source": [
    "Soru 3 : **Chunksize parametresinin kullanılması hangi hatanın önüne geçilmesini sağlar?**"
   ]
  },
  {
   "cell_type": "code",
   "execution_count": 4,
   "metadata": {},
   "outputs": [],
   "source": [
    "#Cevap : Hafiza Yetersiz"
   ]
  }
 ],
 "metadata": {
  "kernelspec": {
   "display_name": "Python 3",
   "language": "python",
   "name": "python3"
  },
  "language_info": {
   "codemirror_mode": {
    "name": "ipython",
    "version": 3
   },
   "file_extension": ".py",
   "mimetype": "text/x-python",
   "name": "python",
   "nbconvert_exporter": "python",
   "pygments_lexer": "ipython3",
   "version": "3.8.5"
  }
 },
 "nbformat": 4,
 "nbformat_minor": 4
}
