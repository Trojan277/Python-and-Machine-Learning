{
 "cells": [
  {
   "cell_type": "code",
   "execution_count": 5,
   "metadata": {},
   "outputs": [
    {
     "name": "stdout",
     "output_type": "stream",
     "text": [
      "5\n",
      "<class 'int'>\n"
     ]
    }
   ],
   "source": [
    "# Ön tanimli fonksiyonlar\n",
    "x = 5\n",
    "print (x)\n",
    "\n",
    "print(type(x))"
   ]
  },
  {
   "cell_type": "code",
   "execution_count": 6,
   "metadata": {},
   "outputs": [
    {
     "name": "stdout",
     "output_type": "stream",
     "text": [
      "16\n"
     ]
    }
   ],
   "source": [
    "# özgün fonksiyonlar (User Defined Functions)\n",
    "\n",
    "def kare(): # fonskiyon girisi (function header), parametre yok \n",
    "    yeni_sayi = 4**2  # funtion body\n",
    "    print(yeni_sayi)\n",
    "kare()"
   ]
  },
  {
   "cell_type": "code",
   "execution_count": 7,
   "metadata": {},
   "outputs": [
    {
     "name": "stdout",
     "output_type": "stream",
     "text": [
      "49\n"
     ]
    }
   ],
   "source": [
    "def kare(sayi): # tek bir parametre\n",
    "    yeni_sayi = sayi ** 2\n",
    "    print(yeni_sayi)\n",
    "kare(7)"
   ]
  },
  {
   "cell_type": "code",
   "execution_count": 8,
   "metadata": {},
   "outputs": [
    {
     "name": "stdout",
     "output_type": "stream",
     "text": [
      "81\n"
     ]
    }
   ],
   "source": [
    "def kare(sayi):\n",
    "    \"\"\"\"Sayinin Karesini alir\"\"\"\n",
    "    yeni_sayi = sayi ** 2\n",
    "    return yeni_sayi\n",
    "\n",
    "sayi2 = kare(9)\n",
    "print(sayi2)"
   ]
  },
  {
   "cell_type": "markdown",
   "metadata": {},
   "source": [
    "Soru 1 : **5'in karesini alan fonksiyon hangisidir?**"
   ]
  },
  {
   "cell_type": "code",
   "execution_count": null,
   "metadata": {},
   "outputs": [],
   "source": [
    "#Cevap : \n",
    "#   def kareal():\n",
    "#       sayi = 5**2\n",
    "#       print(sayi)\n",
    "#   kareal()"
   ]
  },
  {
   "cell_type": "markdown",
   "metadata": {},
   "source": [
    "Soru 1 : **Fonksiyonlarda kullanılan ve fonksiyonun giriş satırından sonra iki adet \"\"\" arasına yazılan metnin amacı nedir?**"
   ]
  },
  {
   "cell_type": "code",
   "execution_count": 9,
   "metadata": {},
   "outputs": [],
   "source": [
    "#Cevap : Fonskiyonun yaptigi islemi tanimlar"
   ]
  },
  {
   "cell_type": "markdown",
   "metadata": {},
   "source": [
    "Soru 3 : **Fonksiyonlarda return komutu ne işe yarar?**"
   ]
  },
  {
   "cell_type": "code",
   "execution_count": 11,
   "metadata": {},
   "outputs": [],
   "source": [
    "#Cevap : Fonksiyondan elde edilen değerin bir değişkene atanmasını sağlar"
   ]
  }
 ],
 "metadata": {
  "kernelspec": {
   "display_name": "Python 3",
   "language": "python",
   "name": "python3"
  },
  "language_info": {
   "codemirror_mode": {
    "name": "ipython",
    "version": 3
   },
   "file_extension": ".py",
   "mimetype": "text/x-python",
   "name": "python",
   "nbconvert_exporter": "python",
   "pygments_lexer": "ipython3",
   "version": "3.8.5"
  }
 },
 "nbformat": 4,
 "nbformat_minor": 4
}
