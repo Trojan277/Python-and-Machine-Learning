{
 "cells": [
  {
   "cell_type": "code",
   "execution_count": null,
   "metadata": {},
   "outputs": [],
   "source": [
    "#if-elif-else\n",
    "sayı = 9\n",
    "\n",
    "if sayı % 2 ==0: #True\n",
    "    print(\"Bu sayı çifttir\")\n",
    "else:\n",
    "    print(\"bu sayı çift değildir\")\n",
    "\n",
    "bu sayı çift değildir\n",
    "\n",
    "#while\n",
    "sayı = 100\n",
    "\n",
    "while sayı > 5: #False olana kadar döngü devam eder.\n",
    "    sayı = sayı - 1\n",
    "    print(sayı)\n",
    "99\n",
    "98\n",
    "97\n",
    "96\n",
    "95\n",
    "94\n",
    "93\n",
    ".\n",
    ".\n",
    "."
   ]
  },
  {
   "cell_type": "markdown",
   "metadata": {},
   "source": [
    "Soru 1 : **while döngüsü, döngü içerisinde tanımlanan koşul \"True\" olduğu sürece devam eder.**"
   ]
  },
  {
   "cell_type": "code",
   "execution_count": 2,
   "metadata": {},
   "outputs": [],
   "source": [
    "#Cevap : Dogru"
   ]
  },
  {
   "cell_type": "markdown",
   "metadata": {},
   "source": [
    "Soru 2 : **Aşağıdaki döngü toplam kaç adet çıktı verir?**"
   ]
  },
  {
   "cell_type": "code",
   "execution_count": null,
   "metadata": {},
   "outputs": [],
   "source": [
    "hata = 50\n",
    "while hata > 0.125:\n",
    "    hata = hata / 5\n",
    "    print('Hata oranı çok yüksek')"
   ]
  },
  {
   "cell_type": "code",
   "execution_count": 4,
   "metadata": {},
   "outputs": [],
   "source": [
    "#Cevap : 4"
   ]
  },
  {
   "cell_type": "markdown",
   "metadata": {},
   "source": [
    "Soru 3 : **Aşağıdaki döngü toplam kaç adet çıktı verir?**"
   ]
  },
  {
   "cell_type": "code",
   "execution_count": null,
   "metadata": {},
   "outputs": [],
   "source": [
    "bakiye = 50\n",
    "while bakiye > 0.001:\n",
    "    print('Hesapta bakiye mevcut')"
   ]
  },
  {
   "cell_type": "code",
   "execution_count": 5,
   "metadata": {},
   "outputs": [],
   "source": [
    "#Cevap : sonsuz"
   ]
  }
 ],
 "metadata": {
  "kernelspec": {
   "display_name": "Python 3",
   "language": "python",
   "name": "python3"
  },
  "language_info": {
   "codemirror_mode": {
    "name": "ipython",
    "version": 3
   },
   "file_extension": ".py",
   "mimetype": "text/x-python",
   "name": "python",
   "nbconvert_exporter": "python",
   "pygments_lexer": "ipython3",
   "version": "3.8.3"
  }
 },
 "nbformat": 4,
 "nbformat_minor": 4
}
