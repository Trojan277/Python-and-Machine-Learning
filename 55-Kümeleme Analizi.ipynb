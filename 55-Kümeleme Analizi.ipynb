{
 "cells": [
  {
   "cell_type": "code",
   "execution_count": null,
   "metadata": {},
   "outputs": [],
   "source": [
    "import numpy as np\n",
    "\n",
    "data = np.loadtxt('seeds_dataset.txt')"
   ]
  },
  {
   "cell_type": "code",
   "execution_count": null,
   "metadata": {},
   "outputs": [],
   "source": [
    "data"
   ]
  },
  {
   "cell_type": "raw",
   "metadata": {},
   "source": [
    "array([[15.26  , 14.84  ,  0.871 , ...,  2.221 ,  5.22  ,  1.    ],\n",
    "       [14.88  , 14.57  ,  0.8811, ...,  1.018 ,  4.956 ,  1.    ],\n",
    "       [14.29  , 14.09  ,  0.905 , ...,  2.699 ,  4.825 ,  1.    ],\n",
    "       ...,\n",
    "       [13.2   , 13.66  ,  0.8883, ...,  8.315 ,  5.056 ,  3.    ],\n",
    "       [11.84  , 13.21  ,  0.8521, ...,  3.598 ,  5.044 ,  3.    ],\n",
    "       [12.3   , 13.34  ,  0.8684, ...,  5.637 ,  5.063 ,  3.    ]])"
   ]
  },
  {
   "cell_type": "code",
   "execution_count": null,
   "metadata": {},
   "outputs": [],
   "source": [
    "wheat = data[:,:-1]\n",
    "location = data[:,-1]"
   ]
  },
  {
   "cell_type": "code",
   "execution_count": null,
   "metadata": {},
   "outputs": [],
   "source": [
    "wheat"
   ]
  },
  {
   "cell_type": "raw",
   "metadata": {},
   "source": [
    "array([[15.26  , 14.84  ,  0.871 , ...,  3.312 ,  2.221 ,  5.22  ],\n",
    "       [14.88  , 14.57  ,  0.8811, ...,  3.333 ,  1.018 ,  4.956 ],\n",
    "       [14.29  , 14.09  ,  0.905 , ...,  3.337 ,  2.699 ,  4.825 ],\n",
    "       ...,\n",
    "       [13.2   , 13.66  ,  0.8883, ...,  3.232 ,  8.315 ,  5.056 ],\n",
    "       [11.84  , 13.21  ,  0.8521, ...,  2.836 ,  3.598 ,  5.044 ],\n",
    "       [12.3   , 13.34  ,  0.8684, ...,  2.974 ,  5.637 ,  5.063 ]])"
   ]
  },
  {
   "cell_type": "code",
   "execution_count": null,
   "metadata": {},
   "outputs": [],
   "source": [
    "location"
   ]
  },
  {
   "cell_type": "raw",
   "metadata": {},
   "source": [
    "array([1., 1., 1., 1., 1., 1., 1., 1., 1., 1., 1., 1., 1., 1., 1., 1., 1.,\n",
    "       1., 1., 1., 1., 1., 1., 1., 1., 1., 1., 1., 1., 1., 1., 1., 1., 1.,\n",
    "       1., 1., 1., 1., 1., 1., 1., 1., 1., 1., 1., 1., 1., 1., 1., 1., 1.,\n",
    "       1., 1., 1., 1., 1., 1., 1., 1., 1., 1., 1., 1., 1., 1., 1., 1., 1.,\n",
    "       1., 1., 2., 2., 2., 2., 2., 2., 2., 2., 2., 2., 2., 2., 2., 2., 2.,\n",
    "       2., 2., 2., 2., 2., 2., 2., 2., 2., 2., 2., 2., 2., 2., 2., 2., 2.,\n",
    "       2., 2., 2., 2., 2., 2., 2., 2., 2., 2., 2., 2., 2., 2., 2., 2., 2.,\n",
    "       2., 2., 2., 2., 2., 2., 2., 2., 2., 2., 2., 2., 2., 2., 2., 2., 2.,\n",
    "       2., 2., 2., 2., 3., 3., 3., 3., 3., 3., 3., 3., 3., 3., 3., 3., 3.,\n",
    "       3., 3., 3., 3., 3., 3., 3., 3., 3., 3., 3., 3., 3., 3., 3., 3., 3.,\n",
    "       3., 3., 3., 3., 3., 3., 3., 3., 3., 3., 3., 3., 3., 3., 3., 3., 3.,\n",
    "       3., 3., 3., 3., 3., 3., 3., 3., 3., 3., 3., 3., 3., 3., 3., 3., 3.,\n",
    "       3., 3., 3., 3., 3., 3.])"
   ]
  },
  {
   "cell_type": "code",
   "execution_count": null,
   "metadata": {},
   "outputs": [],
   "source": [
    "# Kume Sayisina Karar Vermek\n",
    "from sklearn.cluster import KMeans\n",
    "\n",
    "kume_sayisi = range(1,10)\n",
    "inertias = []\n",
    "\n",
    "for k in kume_sayisi:\n",
    "    \n",
    "    model = KMeans(n_clusters = k)\n",
    "    \n",
    "    model.fit(wheat)\n",
    "    \n",
    "    inertias.append(model.inertia_)"
   ]
  },
  {
   "cell_type": "code",
   "execution_count": null,
   "metadata": {},
   "outputs": [],
   "source": [
    "inertias"
   ]
  },
  {
   "cell_type": "raw",
   "metadata": {},
   "source": [
    "[2719.8524101779526,\n",
    " 1011.7123453151188,\n",
    " 587.3186115940429,\n",
    " 471.027145682211,\n",
    " 386.10726788467633,\n",
    " 323.27027205797947,\n",
    " 277.5611792670318,\n",
    " 240.49303000300074,\n",
    " 216.05885612998608]"
   ]
  },
  {
   "cell_type": "code",
   "execution_count": null,
   "metadata": {},
   "outputs": [],
   "source": [
    "# Grafiklestirme\n",
    "import matplotlib.pyplot as plt\n",
    "import seaborn as sns\n",
    "sns.set()\n",
    "\n",
    "plt.plot(kume_sayisi, inertias, '-o')\n",
    "plt.title('Ideal Kume Sayisi Degisimi')\n",
    "plt.xlabel('Kume Sayisi')\n",
    "plt.ylabel('Inertia Degerleri')\n",
    "plt.xticks(kume_sayisi)\n",
    "\n",
    "plt.show()"
   ]
  },
  {
   "attachments": {
    "Untitled%20%283%29.png": {
     "image/png": "[encoded data removed]"
    }
   },
   "cell_type": "markdown",
   "metadata": {},
   "source": [
    "![Untitled%20%283%29.png](attachment:Untitled%20%283%29.png)"
   ]
  },
  {
   "cell_type": "code",
   "execution_count": null,
   "metadata": {},
   "outputs": [],
   "source": [
    "# Capraz Tablolar (Cross Tab)\n",
    "import pandas as pd\n",
    "\n",
    "model = KMeans(n_clusters = 3)\n",
    "\n",
    "labels = model.fit_predict(wheat)\n",
    "\n",
    "df = pd.DataFrame({'Kume': labels, 'Yer': location})\n",
    "df['Yer'] = df['Yer'].replace({1: 'Kama',2: 'Rosa', 3: 'Canadian'})\n",
    "\n",
    "crosstab = pd.crosstab(df['Kume'], df['Yer'])\n",
    "\n",
    "print(crosstab)"
   ]
  },
  {
   "cell_type": "raw",
   "metadata": {},
   "source": [
    "Yer   Canadian  Kama  Rosa\n",
    "Kume                      \n",
    "0            2    60    10\n",
    "1           68     9     0\n",
    "2            0     1    60"
   ]
  },
  {
   "cell_type": "code",
   "execution_count": null,
   "metadata": {},
   "outputs": [],
   "source": [
    "df['Yer']"
   ]
  },
  {
   "cell_type": "raw",
   "metadata": {},
   "source": [
    "0          Kama\n",
    "1          Kama\n",
    "2          Kama\n",
    "3          Kama\n",
    "4          Kama\n",
    "         ...   \n",
    "205    Canadian\n",
    "206    Canadian\n",
    "207    Canadian\n",
    "208    Canadian\n",
    "209    Canadian\n",
    "Name: Yer, Length: 210, dtype: object"
   ]
  },
  {
   "cell_type": "markdown",
   "metadata": {},
   "source": [
    "Soru 1: **Aşağıdakilerden hangisi iyi bir küme dağılımının özelliklerindendir?**"
   ]
  },
  {
   "cell_type": "code",
   "execution_count": 2,
   "metadata": {},
   "outputs": [],
   "source": [
    "#Cevap: Kume verileri birbirine yakindir"
   ]
  },
  {
   "cell_type": "markdown",
   "metadata": {},
   "source": [
    "Soru 2: **\"Inertia\" kavramı neyi ifade eder?**"
   ]
  },
  {
   "cell_type": "code",
   "execution_count": 3,
   "metadata": {},
   "outputs": [],
   "source": [
    "#Cevap: Her bir verinin küme merkezine olan uzaklığını"
   ]
  },
  {
   "cell_type": "markdown",
   "metadata": {},
   "source": [
    "Soru 3: **\"Cross Tab\" hangi durumda kullanılır?**"
   ]
  },
  {
   "cell_type": "code",
   "execution_count": 5,
   "metadata": {},
   "outputs": [],
   "source": [
    "#Cevap: Hedef değişken verisi olmadığında veri-küme dağılımını analiz etmek için"
   ]
  }
 ],
 "metadata": {
  "kernelspec": {
   "display_name": "Python 3",
   "language": "python",
   "name": "python3"
  },
  "language_info": {
   "codemirror_mode": {
    "name": "ipython",
    "version": 3
   },
   "file_extension": ".py",
   "mimetype": "text/x-python",
   "name": "python",
   "nbconvert_exporter": "python",
   "pygments_lexer": "ipython3",
   "version": "3.8.5"
  }
 },
 "nbformat": 4,
 "nbformat_minor": 4
}
