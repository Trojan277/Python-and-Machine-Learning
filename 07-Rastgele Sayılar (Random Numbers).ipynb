{
 "cells": [
  {
   "cell_type": "code",
   "execution_count": null,
   "metadata": {},
   "outputs": [],
   "source": [
    "import numpy as np\n",
    "np.random.seed(555) # tekrar edilebilirlik veya tekrarlanabilirlik\n",
    "np.random.rand() # 0 ile 1 arasinda rastgele sayilar uretir\n",
    "\n",
    "0.7178340874802498\n",
    "\n",
    "# Yazi - Tura Senaryosu\n",
    "para = np.random.randint(0,2) # her seferde 0 veya 1\n",
    "print(para)\n",
    "if para == 0:\n",
    "    print('Tura geldi')\n",
    "else:\n",
    "    print('Yazi geldi')\n",
    "\n",
    "0\n",
    "Tura geldi\n",
    "\n",
    "# Zar Atma Senaryosu\n",
    "zar = np.random.randint(1,7)\n",
    "print(zar)\n",
    "\n",
    "6\n",
    "\n",
    "# Zar Atma Senaryosu\n",
    "seviye = 30 # baslangictaki seviye|basamak|yukseklik|kat\n",
    "zar = np.random.randint(1,7) # 1 ve 6 arasi rastgele sayilar\n",
    "\n",
    "# if-elif-else kosulu\n",
    "if zar <= 2:\n",
    "    seviye = seviye - 1\n",
    "elif zar < 6:\n",
    "    seviye = seviye + 1\n",
    "else:\n",
    "    seviye = seviye + np.random.randint(1.7) # zari tekrar atma kosulu\n",
    "print(zar)\n",
    "\n",
    "1\n",
    "\n",
    "print(seviye)\n",
    "\n",
    "29"
   ]
  }
 ],
 "metadata": {
  "kernelspec": {
   "display_name": "Python 3",
   "language": "python",
   "name": "python3"
  },
  "language_info": {
   "codemirror_mode": {
    "name": "ipython",
    "version": 3
   },
   "file_extension": ".py",
   "mimetype": "text/x-python",
   "name": "python",
   "nbconvert_exporter": "python",
   "pygments_lexer": "ipython3",
   "version": "3.8.3"
  }
 },
 "nbformat": 4,
 "nbformat_minor": 4
}
