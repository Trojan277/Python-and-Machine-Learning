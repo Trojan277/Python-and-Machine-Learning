{
 "cells": [
  {
   "cell_type": "code",
   "execution_count": null,
   "metadata": {},
   "outputs": [],
   "source": [
    "import numpy as np\n",
    "np.random.seed(123)\n",
    "liste = [] # yazi ve tura degerlerini yazdirmak icin bos liste\n",
    "\n",
    "for x in range(10):\n",
    "    para = np.random.randint(0,2)\n",
    "    if para == 0:\n",
    "        liste.append('Tura') # Listeye append komutu ile 'Tura' ekleme\n",
    "    else:\n",
    "        liste.append('Yazi')\n",
    "        \n",
    "print(liste)\n",
    "\n",
    "['Tura', 'Yazi', 'Tura', 'Tura', 'Tura', 'Tura', 'Tura', 'Yazi', 'Yazi', 'Tura']\n",
    "\n",
    "liste2 = [0]\n",
    "\n",
    "for y in range(10):\n",
    "    para = np.random.randint(0,2)\n",
    "    liste2.append(liste2[y] + para) # bir onceki degerleri dikkate alarak yeni gelen degeri eklemek\n",
    "\n",
    "print(liste2)\n",
    "\n",
    "[0, 0, 1, 1, 2, 2, 3, 3, 3, 3, 3]\n",
    "\n",
    "# Zar Atma ve Rastgele Yuruyus\n",
    "\n",
    "atilanzar = [0]\n",
    "\n",
    "for a in range(100):\n",
    "    seviye = atilanzar[-1]\n",
    "    zar = np.random.randint(1,7)\n",
    "    if zar <= 2:\n",
    "        seviye = max(0, seviye - 1) # inilebilecek en yuksek seviye \n",
    "    elif zar < 6:\n",
    "        seviye = seviye + 1\n",
    "    else:\n",
    "        seviye = seviye + np.random.randint(1,7)\n",
    "    atilanzar.append(seviye)\n",
    "print(atilanzar)\n",
    "\n",
    "[0, 1, 2, 3, 4, 6, 10, 11, 12, 13, 14, 18, 23, 22, 21, 20, 19, 22, 23, 24, 25, 24, 23, 26, 27, 26, 25, 24, 25, 26, 27, 28, 27, 28, 27, 28, 29, 28, 29, 30, 31, 32, 33, 34, 35, 34, 33, 34, 35, 38, 39, 38, 37, 38, 39, 40, 45, 44, 43, 42, 41, 40, 39, 40, 39, 38, 39, 42, 41, 40, 41, 42, 43, 42, 43, 44, 45, 46, 47, 48, 49, 50, 53, 59, 60, 61, 62, 63, 64, 63, 62, 61, 62, 63, 64, 65, 67, 68, 69, 70, 72]\n",
    "\n",
    "# Rastgele Yuruyusun goruntulenmesi|grafiklendirilmesi\n",
    "import matplotlib.pyplot as plt\n",
    "plt.plot(atilanzar)\n",
    "plt.show()"
   ]
  },
  {
   "attachments": {
    "indir.png": {
     "image/png": "[encoded data removed]"
    }
   },
   "cell_type": "markdown",
   "metadata": {},
   "source": [
    "![indir.png](attachment:indir.png)"
   ]
  },
  {
   "cell_type": "code",
   "execution_count": null,
   "metadata": {},
   "outputs": [],
   "source": []
  }
 ],
 "metadata": {
  "kernelspec": {
   "display_name": "Python 3",
   "language": "python",
   "name": "python3"
  },
  "language_info": {
   "codemirror_mode": {
    "name": "ipython",
    "version": 3
   },
   "file_extension": ".py",
   "mimetype": "text/x-python",
   "name": "python",
   "nbconvert_exporter": "python",
   "pygments_lexer": "ipython3",
   "version": "3.8.3"
  }
 },
 "nbformat": 4,
 "nbformat_minor": 4
}
