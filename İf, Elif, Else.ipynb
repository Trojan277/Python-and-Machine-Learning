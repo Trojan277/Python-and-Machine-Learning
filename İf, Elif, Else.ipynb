{
 "cells": [
  {
   "cell_type": "code",
   "execution_count": 1,
   "metadata": {},
   "outputs": [
    {
     "name": "stdout",
     "output_type": "stream",
     "text": [
      "7 üçe tam bölünemez\n"
     ]
    }
   ],
   "source": [
    "sayı = 7\n",
    "\n",
    "if sayı % 3 == 0: #False\n",
    "    print(str(sayı) + \" \" + \"üçe tam bölünebilir\")\n",
    "elif sayı % 2 == 0: # False\n",
    "    print(str(sayı) + \" \" + \"ikiye tam bölünebilir\")\n",
    "else: #True\n",
    "    print(str(sayı) + \" \" + \"üçe tam bölünemez\")"
   ]
  },
  {
   "cell_type": "markdown",
   "metadata": {},
   "source": [
    "Soru 1 : **Aşağıdaki işlemin sonucu nedir?**"
   ]
  },
  {
   "cell_type": "code",
   "execution_count": null,
   "metadata": {},
   "outputs": [],
   "source": [
    "yaş = 10\n",
    "if(yaş < 9) :\n",
    "    print(\"küçük\")\n",
    "elif(yaş < 12) :\n",
    "    print(\"orta\")\n",
    "else :\n",
    "    print(\"büyük\")"
   ]
  },
  {
   "cell_type": "code",
   "execution_count": 3,
   "metadata": {},
   "outputs": [],
   "source": [
    "##Cevap: orta"
   ]
  },
  {
   "cell_type": "markdown",
   "metadata": {},
   "source": [
    "Soru 2 : **İf, elif ve else döngüsü içerisinde çıktı olarak bir sayının verilmesi istediğinde hata ile karşılaşmamak için sayı değeri metin değerine hangi fonksiyon ile dönüştürülür?**"
   ]
  },
  {
   "cell_type": "markdown",
   "metadata": {},
   "source": [
    "Şıklar : type(), sum(), str(), number()"
   ]
  },
  {
   "cell_type": "code",
   "execution_count": 5,
   "metadata": {},
   "outputs": [],
   "source": [
    "##Cevap : str()"
   ]
  },
  {
   "cell_type": "markdown",
   "metadata": {},
   "source": [
    "Soru 3 : **if, elif ve else döngüsü içerisinde tanımlanan bir koşulun karşılanması durumunda yapılması gereken işlemler tanımlanır.**"
   ]
  },
  {
   "cell_type": "markdown",
   "metadata": {},
   "source": [
    "Şıklar : Doğru, Yanlış"
   ]
  },
  {
   "cell_type": "code",
   "execution_count": null,
   "metadata": {},
   "outputs": [],
   "source": [
    "##Cevap : Dogru"
   ]
  }
 ],
 "metadata": {
  "kernelspec": {
   "display_name": "Python 3",
   "language": "python",
   "name": "python3"
  },
  "language_info": {
   "codemirror_mode": {
    "name": "ipython",
    "version": 3
   },
   "file_extension": ".py",
   "mimetype": "text/x-python",
   "name": "python",
   "nbconvert_exporter": "python",
   "pygments_lexer": "ipython3",
   "version": "3.8.5"
  }
 },
 "nbformat": 4,
 "nbformat_minor": 4
}
