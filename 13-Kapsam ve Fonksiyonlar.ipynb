{
 "cells": [
  {
   "cell_type": "markdown",
   "metadata": {},
   "source": [
    "## Kapsam Ve Fonksiyonlar\n",
    "\n",
    "- Her obje, scriptin her yerinden ulasilabilir olmayabilir\n",
    "- Kapsam(scope): Objenin ulasilabilirligini tanimlar\n",
    "- Global Scope: Ana kod blogu icinde tanimlananlar\n",
    "- Local Scope: Fonksiyon icerisinde tanimlananlar\n",
    "- Built in Scope: Ön tanimli moduller"
   ]
  },
  {
   "cell_type": "code",
   "execution_count": 1,
   "metadata": {},
   "outputs": [],
   "source": [
    "yeni_sayi = 10 # Global Scope \n",
    "\n",
    "def kareal(sayi):\n",
    "    \"\"\"Sayinin karesini alir\"\"\"\n",
    "    global yeni_sayi\n",
    "    yeni_sayi = sayi ** 2 #localscope \n",
    "    return yeni_sayi"
   ]
  },
  {
   "cell_type": "code",
   "execution_count": 2,
   "metadata": {},
   "outputs": [
    {
     "data": {
      "text/plain": [
       "9"
      ]
     },
     "execution_count": 2,
     "metadata": {},
     "output_type": "execute_result"
    }
   ],
   "source": [
    "kareal(3)"
   ]
  },
  {
   "cell_type": "code",
   "execution_count": 3,
   "metadata": {},
   "outputs": [
    {
     "data": {
      "text/plain": [
       "9"
      ]
     },
     "execution_count": 3,
     "metadata": {},
     "output_type": "execute_result"
    }
   ],
   "source": [
    "yeni_sayi"
   ]
  },
  {
   "cell_type": "markdown",
   "metadata": {},
   "source": [
    "Soru 1 : **Aşağıdaki fonksiyon dikkate alındığından sırayla fonksiyon1( ) ve fonksiyon2( ) çağırıldığında elde edilen değerler hangileridir?**"
   ]
  },
  {
   "cell_type": "code",
   "execution_count": null,
   "metadata": {},
   "outputs": [],
   "source": [
    "sayı = 5\n",
    " \n",
    "def fonksiyon1():\n",
    "    sayı = 5\n",
    "    print(sayı)\n",
    " \n",
    "def fonksiyon2():\n",
    "    global sayı\n",
    "    sayı2 = sayı * 2\n",
    "    sayı = 10\n",
    "    print(sayı2)"
   ]
  },
  {
   "cell_type": "code",
   "execution_count": 4,
   "metadata": {},
   "outputs": [],
   "source": [
    "#Cevap : 5,10"
   ]
  },
  {
   "cell_type": "markdown",
   "metadata": {},
   "source": [
    "Soru 2 : **Python içerisinde bulunan kapsamlar (scope) hangi seçenekte doğru verilmiştir?**"
   ]
  },
  {
   "cell_type": "code",
   "execution_count": 5,
   "metadata": {},
   "outputs": [],
   "source": [
    "#Cevap :\n",
    "\n",
    "#Global Scope\n",
    "#Local Scope\n",
    "#Built in Scope"
   ]
  },
  {
   "cell_type": "markdown",
   "metadata": {},
   "source": [
    "Soru 3 : **Kapsam (scope) neyi tanımlar?**"
   ]
  },
  {
   "cell_type": "code",
   "execution_count": 6,
   "metadata": {},
   "outputs": [],
   "source": [
    "#Cevap : Kod blogu icersindeki objenin ulasilabilirligini belirtir"
   ]
  }
 ],
 "metadata": {
  "kernelspec": {
   "display_name": "Python 3",
   "language": "python",
   "name": "python3"
  },
  "language_info": {
   "codemirror_mode": {
    "name": "ipython",
    "version": 3
   },
   "file_extension": ".py",
   "mimetype": "text/x-python",
   "name": "python",
   "nbconvert_exporter": "python",
   "pygments_lexer": "ipython3",
   "version": "3.8.5"
  }
 },
 "nbformat": 4,
 "nbformat_minor": 4
}
