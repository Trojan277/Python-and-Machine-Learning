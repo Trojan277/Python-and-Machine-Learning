{
 "cells": [
  {
   "cell_type": "markdown",
   "metadata": {},
   "source": [
    "## Lineer Regresyon nedir ve nasil calisir? \n",
    "- y = ax+b \n",
    "    - y = hedef degisken (target veriable) \n",
    "    - x = ozellik (feature) \n",
    "    - a,b = model parametreleri"
   ]
  },
  {
   "cell_type": "markdown",
   "metadata": {},
   "source": [
    "- Dogrularin hata fonksiyonlari tanimlanmalidir\n",
    "    - Hata fonksiyonu en aza indirgeyen dogru secilmelidir"
   ]
  },
  {
   "cell_type": "markdown",
   "metadata": {},
   "source": [
    "- Kayip / yitim fonksiyonu (Loss Function) \n",
    "    - Dogru, verileri ile mumkun olan en ust derecede uyumlu olmalidir \n",
    "    - Her bir ver icin, veri ile dogru arasindaki dikey mesafe hesaplanir \n",
    "        - Artik / Reziduel ( Residual ) \n",
    "    - Dogrunun ustunde ve altinda kalan degerlerin dikey mesafeleri toplanabilir ( ? ) \n",
    "    - En kucuk kareler yontemi ( Ordinary Least Sqauares Method, OLS )"
   ]
  },
  {
   "cell_type": "markdown",
   "metadata": {},
   "source": [
    "## Coklu Boyutlarda Lineer Regresyon \n",
    "- y = a1x1 + a2x2 + b \n",
    "- y= a1x1 + a2x2 + ... + b"
   ]
  },
  {
   "cell_type": "code",
   "execution_count": null,
   "metadata": {},
   "outputs": [],
   "source": [
    "import pandas as pd\n",
    "data = pd.read_csv ('boston.csv')\n",
    "# scikit - learn\n",
    "# RM ve MEDV degerleri ayri ayri saklanmalidir\n",
    "X = data.drop('medv', axis =1).values # target variable haric tum veriler\n",
    "y = data['medv'].values"
   ]
  },
  {
   "cell_type": "code",
   "execution_count": null,
   "metadata": {},
   "outputs": [],
   "source": [
    "# Tek bir parametre kullanmak\n",
    "# room_number = X[:,5]\n",
    "# room_number = room_number.reshape(-1,1)\n",
    "# y = y.reshape(-1,1)"
   ]
  },
  {
   "cell_type": "code",
   "execution_count": null,
   "metadata": {},
   "outputs": [],
   "source": [
    "from sklearn.model_selection import train_test_split\n",
    "from sklearn.linear_model import LinearRegression\n",
    "\n",
    "X_train, X_test, y_train, y_test = train_test_split(X,y, test_size = 0.25, random_state = 30)\n",
    "reg_all = LinearRegression()\n",
    "reg_all.fit(X_train, y_train)\n",
    "\n",
    "y_prediction = reg_all.predict(X_test)\n",
    "print('R^2: {}'.format(reg_all.score(X_test, y_test)))"
   ]
  },
  {
   "cell_type": "markdown",
   "metadata": {},
   "source": [
    "R^2: 0.7400359039561346"
   ]
  },
  {
   "cell_type": "code",
   "execution_count": null,
   "metadata": {},
   "outputs": [],
   "source": [
    "from sklearn.metrics import mean_squared_error\n",
    "import numpy as np\n",
    "error = np.sqrt(mean_squared_error(y_test, y_prediction))\n",
    "print('Error:{}'.format(error))"
   ]
  },
  {
   "cell_type": "markdown",
   "metadata": {},
   "source": [
    "Error:4.07369479903573"
   ]
  },
  {
   "cell_type": "markdown",
   "metadata": {},
   "source": [
    "Soru 1: **y = ax + b eşitliğinde y neyi ifade eder?**"
   ]
  },
  {
   "cell_type": "code",
   "execution_count": null,
   "metadata": {},
   "outputs": [],
   "source": [
    "#Cevap : Hedef değişken (Target variable)"
   ]
  },
  {
   "cell_type": "markdown",
   "metadata": {},
   "source": [
    "Soru 2: **Her bir veri ile lineer doğru arasındaki dikey mesafe nedir?**"
   ]
  },
  {
   "cell_type": "code",
   "execution_count": null,
   "metadata": {},
   "outputs": [],
   "source": [
    "#Cevap : Reziduel"
   ]
  },
  {
   "cell_type": "markdown",
   "metadata": {},
   "source": [
    "Soru 3: **Lineer regresyonda bir modelin performansı hangi yöntem ile belirlenir?**"
   ]
  },
  {
   "cell_type": "code",
   "execution_count": null,
   "metadata": {},
   "outputs": [],
   "source": [
    "#Cevap : En küçük kareler yöntemi"
   ]
  }
 ],
 "metadata": {
  "kernelspec": {
   "display_name": "Python 3",
   "language": "python",
   "name": "python3"
  },
  "language_info": {
   "codemirror_mode": {
    "name": "ipython",
    "version": 3
   },
   "file_extension": ".py",
   "mimetype": "text/x-python",
   "name": "python",
   "nbconvert_exporter": "python",
   "pygments_lexer": "ipython3",
   "version": "3.8.5"
  }
 },
 "nbformat": 4,
 "nbformat_minor": 4
}
