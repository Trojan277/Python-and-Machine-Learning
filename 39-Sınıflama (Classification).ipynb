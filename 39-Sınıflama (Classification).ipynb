{
 "cells": [
  {
   "cell_type": "markdown",
   "metadata": {},
   "source": [
    "# Sınıflama (Classification)"
   ]
  },
  {
   "cell_type": "markdown",
   "metadata": {},
   "source": [
    "Mevcut veri setini kullanarak yeni verileri tahmin edecek bir model olusturmak \n",
    "- Tanimlanmis veri (labeled data): egitim verisi (training data) \n",
    "- Siniflayici (classifier): K-En Yakin Komsu Algoritmasi (k-Nearest Neighbors | KNN)"
   ]
  },
  {
   "cell_type": "code",
   "execution_count": 1,
   "metadata": {},
   "outputs": [],
   "source": [
    "from sklearn import datasets\n",
    "import pandas as pd\n",
    "import numpy as np\n",
    "import matplotlib.pyplot as plt\n",
    "import seaborn as sns\n",
    "sns.set()\n",
    "iris = datasets.load_iris()\n",
    "x = iris.data\n",
    "y = iris. target\n",
    "veri = pd.DataFrame(x, columns = iris.feature_names)"
   ]
  },
  {
   "cell_type": "code",
   "execution_count": null,
   "metadata": {},
   "outputs": [],
   "source": [
    "print(veri)"
   ]
  },
  {
   "cell_type": "raw",
   "metadata": {},
   "source": [
    "     sepal length (cm)  sepal width (cm)  petal length (cm)  petal width (cm)\n",
    "0                  5.1               3.5                1.4               0.2\n",
    "1                  4.9               3.0                1.4               0.2\n",
    "2                  4.7               3.2                1.3               0.2\n",
    "3                  4.6               3.1                1.5               0.2\n",
    "4                  5.0               3.6                1.4               0.2\n",
    "..                 ...               ...                ...               ...\n",
    "145                6.7               3.0                5.2               2.3\n",
    "146                6.3               2.5                5.0               1.9\n",
    "147                6.5               3.0                5.2               2.0\n",
    "148                6.2               3.4                5.4               2.3\n",
    "149                5.9               3.0                5.1               1.8\n",
    "\n",
    "[150 rows x 4 columns]"
   ]
  },
  {
   "cell_type": "code",
   "execution_count": null,
   "metadata": {},
   "outputs": [],
   "source": [
    "petal_lenght = veri['petal length (cm)']\n",
    "petal_width = veri['petal width (cm)']\n",
    "\n",
    "print(petal_lenght)"
   ]
  },
  {
   "cell_type": "raw",
   "metadata": {},
   "source": [
    "0      1.4\n",
    "1      1.4\n",
    "2      1.3\n",
    "3      1.5\n",
    "4      1.4\n",
    "      ... \n",
    "145    5.2\n",
    "146    5.0\n",
    "147    5.2\n",
    "148    5.4\n",
    "149    5.1\n",
    "Name: petal length (cm), Length: 150, dtype: float64"
   ]
  },
  {
   "cell_type": "code",
   "execution_count": null,
   "metadata": {},
   "outputs": [],
   "source": [
    "sns.scatterplot(petal_width, petal_lenght,) \n",
    "plt.show()"
   ]
  },
  {
   "attachments": {
    "Untitled%20%281%29.png": {
     "image/png": "[encoded data removed]"
    }
   },
   "cell_type": "markdown",
   "metadata": {},
   "source": [
    "![Untitled%20%281%29.png](attachment:Untitled%20%281%29.png)"
   ]
  },
  {
   "cell_type": "code",
   "execution_count": null,
   "metadata": {},
   "outputs": [],
   "source": [
    "iris.keys()"
   ]
  },
  {
   "cell_type": "markdown",
   "metadata": {},
   "source": [
    "dict_keys(['data', 'target', 'frame', 'target_names', 'DESCR', 'feature_names', 'filename'])"
   ]
  },
  {
   "cell_type": "code",
   "execution_count": null,
   "metadata": {},
   "outputs": [],
   "source": [
    "z = iris.target_names\n",
    "print(z)"
   ]
  },
  {
   "cell_type": "markdown",
   "metadata": {},
   "source": [
    "['setosa' 'versicolor' 'virginica']"
   ]
  },
  {
   "cell_type": "code",
   "execution_count": null,
   "metadata": {},
   "outputs": [],
   "source": [
    "z = iris.target\n",
    "print(z)"
   ]
  },
  {
   "cell_type": "raw",
   "metadata": {},
   "source": [
    "[0 0 0 0 0 0 0 0 0 0 0 0 0 0 0 0 0 0 0 0 0 0 0 0 0 0 0 0 0 0 0 0 0 0 0 0 0\n",
    " 0 0 0 0 0 0 0 0 0 0 0 0 0 1 1 1 1 1 1 1 1 1 1 1 1 1 1 1 1 1 1 1 1 1 1 1 1\n",
    " 1 1 1 1 1 1 1 1 1 1 1 1 1 1 1 1 1 1 1 1 1 1 1 1 1 1 2 2 2 2 2 2 2 2 2 2 2\n",
    " 2 2 2 2 2 2 2 2 2 2 2 2 2 2 2 2 2 2 2 2 2 2 2 2 2 2 2 2 2 2 2 2 2 2 2 2 2\n",
    " 2 2]"
   ]
  },
  {
   "cell_type": "code",
   "execution_count": null,
   "metadata": {},
   "outputs": [],
   "source": [
    "veri['target names'] = pd.DataFrame(z)\n",
    "print(veri)\n",
    "veri ['target names'] = veri['target names'].replace({0 : 'setosa', 1 : 'versicolor', 2 : 'vercginica'})\n",
    "print(veri)"
   ]
  },
  {
   "cell_type": "raw",
   "metadata": {},
   "source": [
    "     sepal length (cm)  sepal width (cm)  petal length (cm)  petal width (cm)  \\\n",
    "0                  5.1               3.5                1.4               0.2   \n",
    "1                  4.9               3.0                1.4               0.2   \n",
    "2                  4.7               3.2                1.3               0.2   \n",
    "3                  4.6               3.1                1.5               0.2   \n",
    "4                  5.0               3.6                1.4               0.2   \n",
    "..                 ...               ...                ...               ...   \n",
    "145                6.7               3.0                5.2               2.3   \n",
    "146                6.3               2.5                5.0               1.9   \n",
    "147                6.5               3.0                5.2               2.0   \n",
    "148                6.2               3.4                5.4               2.3   \n",
    "149                5.9               3.0                5.1               1.8   \n",
    "\n",
    "     target names  \n",
    "0               0  \n",
    "1               0  \n",
    "2               0  \n",
    "3               0  \n",
    "4               0  \n",
    "..            ...  \n",
    "145             2  \n",
    "146             2  \n",
    "147             2  \n",
    "148             2  \n",
    "149             2  \n",
    "\n",
    "[150 rows x 5 columns]\n",
    "     sepal length (cm)  sepal width (cm)  petal length (cm)  petal width (cm)  \\\n",
    "0                  5.1               3.5                1.4               0.2   \n",
    "1                  4.9               3.0                1.4               0.2   \n",
    "2                  4.7               3.2                1.3               0.2   \n",
    "3                  4.6               3.1                1.5               0.2   \n",
    "4                  5.0               3.6                1.4               0.2   \n",
    "..                 ...               ...                ...               ...   \n",
    "145                6.7               3.0                5.2               2.3   \n",
    "146                6.3               2.5                5.0               1.9   \n",
    "147                6.5               3.0                5.2               2.0   \n",
    "148                6.2               3.4                5.4               2.3   \n",
    "149                5.9               3.0                5.1               1.8   \n",
    "\n",
    "    target names  \n",
    "0         setosa  \n",
    "1         setosa  \n",
    "2         setosa  \n",
    "3         setosa  \n",
    "4         setosa  \n",
    "..           ...  \n",
    "145   vercginica  \n",
    "146   vercginica  \n",
    "147   vercginica  \n",
    "148   vercginica  \n",
    "149   vercginica  \n",
    "\n",
    "[150 rows x 5 columns]"
   ]
  },
  {
   "cell_type": "code",
   "execution_count": null,
   "metadata": {},
   "outputs": [],
   "source": [
    "sns.scatterplot(petal_width, petal_lenght, hue = veri['target names'])\n",
    "plt.show()"
   ]
  },
  {
   "attachments": {
    "Untitled%20%282%29.png": {
     "image/png": "[encoded data removed]"
    }
   },
   "cell_type": "markdown",
   "metadata": {},
   "source": [
    "![Untitled%20%282%29.png](attachment:Untitled%20%282%29.png)"
   ]
  },
  {
   "cell_type": "markdown",
   "metadata": {},
   "source": [
    "## scikit-learn Uydrma ve Tahmin etme (Fit and Predict)\n",
    "- Tum makine ogrenmesi modelleri Python siniflari (classes) olarak uygulanir\n",
    "    - Ogrenme ve tahmin \n",
    "    - Veriden ogrenme ve saklama \n",
    "- Modellerin egitilmesi = Uydurma (Fit) \n",
    "    - fit() \n",
    "    - predict()"
   ]
  },
  {
   "cell_type": "code",
   "execution_count": null,
   "metadata": {},
   "outputs": [],
   "source": [
    "from sklearn.neighbors import KNeighborsClassifier \n",
    "knn = KNeighborsClassifier(n_neighbors = 5)\n",
    "knn.fit(iris['data'], iris['target'])"
   ]
  },
  {
   "cell_type": "code",
   "execution_count": null,
   "metadata": {},
   "outputs": [],
   "source": [
    "yeni_veriler = np.array([[5.2,3.4,5.7,4.6,3.7],\n",
    "                        [4.2,2.4,4.7,3.6,2.7],\n",
    "                        [3.2,1.4,3.7,2.6,1.7]])"
   ]
  },
  {
   "cell_type": "code",
   "execution_count": null,
   "metadata": {},
   "outputs": [],
   "source": [
    "tahmin = knn.predict(yeni_veriler)\n",
    "print(tahmin)"
   ]
  },
  {
   "cell_type": "markdown",
   "metadata": {},
   "source": [
    "[1 1 2]"
   ]
  },
  {
   "cell_type": "markdown",
   "metadata": {},
   "source": [
    "Soru 1: **k-Neares Neighbors algoritmasında modelin uydurulması için kullanılan fonksiyon hangisidir?**"
   ]
  },
  {
   "cell_type": "code",
   "execution_count": null,
   "metadata": {},
   "outputs": [],
   "source": [
    "#Cevap : fit()"
   ]
  },
  {
   "cell_type": "markdown",
   "metadata": {},
   "source": [
    "Soru 2: **Modelin eğitilmesi sırasında hedef değişken değerleri bilinmelidir?**"
   ]
  },
  {
   "cell_type": "code",
   "execution_count": null,
   "metadata": {},
   "outputs": [],
   "source": [
    "#Cevap : Dogru"
   ]
  },
  {
   "cell_type": "markdown",
   "metadata": {},
   "source": [
    "Soru 3: **k-Neares Neighbors algoritmasında n_neighbors tanımlaması neden yapılır?**"
   ]
  },
  {
   "cell_type": "code",
   "execution_count": null,
   "metadata": {},
   "outputs": [],
   "source": [
    "#Cevap : Yeni verilerin sınıflandırılması sırasında dikkate alınacak veri sayısını belirtmek için"
   ]
  }
 ],
 "metadata": {
  "kernelspec": {
   "display_name": "Python 3",
   "language": "python",
   "name": "python3"
  },
  "language_info": {
   "codemirror_mode": {
    "name": "ipython",
    "version": 3
   },
   "file_extension": ".py",
   "mimetype": "text/x-python",
   "name": "python",
   "nbconvert_exporter": "python",
   "pygments_lexer": "ipython3",
   "version": "3.8.5"
  }
 },
 "nbformat": 4,
 "nbformat_minor": 4
}
