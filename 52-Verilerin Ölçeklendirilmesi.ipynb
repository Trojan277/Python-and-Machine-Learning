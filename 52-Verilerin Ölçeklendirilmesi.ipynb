{
 "cells": [
  {
   "cell_type": "markdown",
   "metadata": {},
   "source": [
    "- Bircok model verilerin analizi sirasinda 'mesafe' kavramini kullanir \n",
    "- Bazi veriler model performansina dogrudan etki edebilir \n",
    "- Verilerin hepsinin benzer bir olcek algoritmasinda olmasi gereklidir."
   ]
  },
  {
   "cell_type": "code",
   "execution_count": null,
   "metadata": {},
   "outputs": [],
   "source": [
    "import pandas as pd\n",
    "data = pd.read_csv('diabetes.csv')\n",
    "\n",
    "print(data.describe())"
   ]
  },
  {
   "cell_type": "raw",
   "metadata": {},
   "source": [
    "Pregnancies     Glucose  BloodPressure  SkinThickness     Insulin  \\\n",
    "count   768.000000  768.000000     768.000000     768.000000  768.000000   \n",
    "mean      3.845052  120.894531      69.105469      20.536458   79.799479   \n",
    "std       3.369578   31.972618      19.355807      15.952218  115.244002   \n",
    "min       0.000000    0.000000       0.000000       0.000000    0.000000   \n",
    "25%       1.000000   99.000000      62.000000       0.000000    0.000000   \n",
    "50%       3.000000  117.000000      72.000000      23.000000   30.500000   \n",
    "75%       6.000000  140.250000      80.000000      32.000000  127.250000   \n",
    "max      17.000000  199.000000     122.000000      99.000000  846.000000   \n",
    "\n",
    "              BMI  DiabetesPedigreeFunction         Age     Outcome  \n",
    "count  768.000000                768.000000  768.000000  768.000000  \n",
    "mean    31.992578                  0.471876   33.240885    0.348958  \n",
    "std      7.884160                  0.331329   11.760232    0.476951  \n",
    "min      0.000000                  0.078000   21.000000    0.000000  \n",
    "25%     27.300000                  0.243750   24.000000    0.000000  \n",
    "50%     32.000000                  0.372500   29.000000    0.000000  \n",
    "75%     36.600000                  0.626250   41.000000    1.000000  \n",
    "max     67.100000                  2.420000   81.000000    1.000000"
   ]
  },
  {
   "cell_type": "markdown",
   "metadata": {},
   "source": [
    "## Verilerin Normalize Edilmesi \n",
    "- Ortalamayi cikarma ve varyans ile bolme (standartizasyon) \n",
    "- En dusuk degeri cikarma ve veri sayisina bolme"
   ]
  },
  {
   "cell_type": "code",
   "execution_count": null,
   "metadata": {},
   "outputs": [],
   "source": [
    "import numpy as np\n",
    "from sklearn.preprocessing import scale\n",
    "from sklearn.model_selection import train_test_split\n",
    "X = data.drop(['Outcome'], axis = 1)\n",
    "y = data['Outcome']"
   ]
  },
  {
   "cell_type": "code",
   "execution_count": null,
   "metadata": {},
   "outputs": [],
   "source": [
    "X_scaled = scale(X)\n",
    "np.mean(X_scaled)"
   ]
  },
  {
   "cell_type": "markdown",
   "metadata": {},
   "source": [
    "8.86154575644819e-17"
   ]
  },
  {
   "cell_type": "code",
   "execution_count": null,
   "metadata": {},
   "outputs": [],
   "source": [
    "np.std(X_scaled)"
   ]
  },
  {
   "cell_type": "markdown",
   "metadata": {},
   "source": [
    "1.0"
   ]
  },
  {
   "cell_type": "code",
   "execution_count": null,
   "metadata": {},
   "outputs": [],
   "source": [
    "np.mean(X)"
   ]
  },
  {
   "cell_type": "raw",
   "metadata": {},
   "source": [
    "Pregnancies                   3.845052\n",
    "Glucose                     120.894531\n",
    "BloodPressure                69.105469\n",
    "SkinThickness                20.536458\n",
    "Insulin                      79.799479\n",
    "BMI                          31.992578\n",
    "DiabetesPedigreeFunction      0.471876\n",
    "Age                          33.240885\n",
    "dtype: float64"
   ]
  },
  {
   "cell_type": "code",
   "execution_count": null,
   "metadata": {},
   "outputs": [],
   "source": [
    "np.std(X)"
   ]
  },
  {
   "cell_type": "raw",
   "metadata": {},
   "source": [
    "Pregnancies                   3.367384\n",
    "Glucose                      31.951796\n",
    "BloodPressure                19.343202\n",
    "SkinThickness                15.941829\n",
    "Insulin                     115.168949\n",
    "BMI                           7.879026\n",
    "DiabetesPedigreeFunction      0.331113\n",
    "Age                          11.752573\n",
    "dtype: float64"
   ]
  },
  {
   "cell_type": "code",
   "execution_count": null,
   "metadata": {},
   "outputs": [],
   "source": [
    "# Olceklendirme ve Pipeline \n",
    "from sklearn.model_selection import train_test_split\n",
    "from sklearn.preprocessing import StandardScaler\n",
    "from sklearn.linear_model import LogisticRegression\n",
    "from sklearn.pipeline import Pipeline\n",
    "\n",
    "logreg = (LogisticRegression(max_iter = 1000))\n",
    "steps = [('Scaler', StandardScaler()), ('Logistic_Regression', logreg)]\n",
    "pipeline = Pipeline(steps)\n",
    "\n",
    "X_train, X_test, y_train, y_test = train_test_split(X, y, test_size = 0.30, random_state = 30)\n",
    "logreg_scaled = pipeline.fit(X_train, y_train)\n",
    "pipeline.fit(X_train, y_train)\n",
    "pipeline.score(X_test, y_test)"
   ]
  },
  {
   "cell_type": "markdown",
   "metadata": {},
   "source": [
    "0.7965367965367965"
   ]
  },
  {
   "cell_type": "code",
   "execution_count": null,
   "metadata": {},
   "outputs": [],
   "source": [
    "from sklearn.metrics import classification_report\n",
    "y_prediction = pipeline.predict(X_test)\n",
    "print(classification_report(y_test, y_prediction))"
   ]
  },
  {
   "cell_type": "raw",
   "metadata": {},
   "source": [
    "              precision    recall  f1-score   support\n",
    "\n",
    "           0       0.84      0.87      0.86       159\n",
    "           1       0.69      0.62      0.66        72\n",
    "\n",
    "    accuracy                           0.80       231\n",
    "   macro avg       0.76      0.75      0.76       231\n",
    "weighted avg       0.79      0.80      0.79       231"
   ]
  },
  {
   "cell_type": "code",
   "execution_count": null,
   "metadata": {},
   "outputs": [],
   "source": [
    "# Cross Validation ve Olceklendirme\n",
    "from sklearn.model_selection import GridSearchCV\n",
    "steps = [('Scaler', StandardScaler()), ('Logistic_Regression', logreg)]\n",
    "pipeline = Pipeline(steps)\n",
    "\n",
    "space = np.logspace(-10, 10, 100)\n",
    "parameters = {'Logistic_Regression__C' : space}\n",
    "X_train, X_test, y_train, y_test = train_test_split(X, y, test_size = 0.30, random_state = 30)\n",
    "\n",
    "cv = GridSearchCV(pipeline, parameters)\n",
    "cv.fit(X_train, y_train)\n",
    "y_prediction = cv.predict(X_test)"
   ]
  },
  {
   "cell_type": "code",
   "execution_count": null,
   "metadata": {},
   "outputs": [],
   "source": [
    "print(cv.best_params_)"
   ]
  },
  {
   "cell_type": "markdown",
   "metadata": {},
   "source": [
    "{'Logistic_Regression__C': 0.030538555088334123}"
   ]
  },
  {
   "cell_type": "code",
   "execution_count": null,
   "metadata": {},
   "outputs": [],
   "source": [
    "print(cv.score(X_test, y_test))"
   ]
  },
  {
   "cell_type": "markdown",
   "metadata": {},
   "source": [
    "0.8051948051948052"
   ]
  },
  {
   "cell_type": "code",
   "execution_count": null,
   "metadata": {},
   "outputs": [],
   "source": [
    "print(classification_report(y_test, y_prediction))"
   ]
  },
  {
   "cell_type": "raw",
   "metadata": {},
   "source": [
    "              precision    recall  f1-score   support\n",
    "\n",
    "           0       0.83      0.91      0.86       159\n",
    "           1       0.74      0.58      0.65        72\n",
    "\n",
    "    accuracy                           0.81       231\n",
    "   macro avg       0.78      0.74      0.76       231\n",
    "weighted avg       0.80      0.81      0.80       231"
   ]
  },
  {
   "cell_type": "markdown",
   "metadata": {},
   "source": [
    "Soru 1: **Veriler benzer bir normalizasyon koşulunda değerlendirilmesi amacıyla ölçeklendirme işlemleri yapılır.**"
   ]
  },
  {
   "cell_type": "code",
   "execution_count": null,
   "metadata": {},
   "outputs": [],
   "source": [
    "#Cevap : Dogru"
   ]
  },
  {
   "cell_type": "markdown",
   "metadata": {},
   "source": [
    "Soru 2: **Aşağıdaki kod bloğunda eksik olan yerlere gelmesi gerekenler hangi seçenekte doğru olarak verilmiştir?**"
   ]
  },
  {
   "cell_type": "code",
   "execution_count": null,
   "metadata": {},
   "outputs": [],
   "source": [
    "from sklearn.model_selection import train_test_split\n",
    "from sklearn.preprocessing import StandardScaler\n",
    "from sklearn.linear_model import LogisticRegression\n",
    "from sklearn.pipeline import Pipeline\n",
    "logreg = (LogisticRegression(max_iter = 1000))\n",
    "steps = [('Scaler', ___()),('Logistic_Regression', logreg)]\n",
    "pipeline = ___(steps)\n",
    "X_train, X_test, y_train, y_test = train_test_split(X, y, test_size = 0.30, random_state = 30)\n",
    "logred_scaled = pipeline.fit(X_train, y_train)\n",
    "pipeline.___(X_train, y_train)\n",
    "pipeline.___(X_test, y_test)"
   ]
  },
  {
   "cell_type": "code",
   "execution_count": null,
   "metadata": {},
   "outputs": [],
   "source": [
    "#Cevap : \n",
    "\n",
    "# StandardScaler\n",
    "# Pipeline\n",
    "# fit\n",
    "# score"
   ]
  },
  {
   "cell_type": "markdown",
   "metadata": {},
   "source": [
    "Soru 3: **Verilerin ölçeklendirilmesi aşamasında tek bir yöntem kullanılır.**"
   ]
  },
  {
   "cell_type": "code",
   "execution_count": null,
   "metadata": {},
   "outputs": [],
   "source": [
    "#Cevap : Yanlis"
   ]
  }
 ],
 "metadata": {
  "kernelspec": {
   "display_name": "Python 3",
   "language": "python",
   "name": "python3"
  },
  "language_info": {
   "codemirror_mode": {
    "name": "ipython",
    "version": 3
   },
   "file_extension": ".py",
   "mimetype": "text/x-python",
   "name": "python",
   "nbconvert_exporter": "python",
   "pygments_lexer": "ipython3",
   "version": "3.8.5"
  }
 },
 "nbformat": 4,
 "nbformat_minor": 4
}
