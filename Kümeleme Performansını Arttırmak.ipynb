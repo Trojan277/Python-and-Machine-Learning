{
 "cells": [
  {
   "cell_type": "code",
   "execution_count": null,
   "metadata": {},
   "outputs": [],
   "source": [
    "import numpy as np\n",
    "data = np.loadtxt('seeds_dataset.txt')\n",
    "wheat = data[:,:-1]\n",
    "location = data[:,-1]\n",
    "# Kume Sayisina Karar Vermek\n",
    "from sklearn.cluster import KMeans\n",
    "kume_sayisi = range(1,10)\n",
    "inertias = []\n",
    "for k in kume_sayisi:\n",
    "    model = KMeans(n_clusters = k)\n",
    "    model.fit(wheat)\n",
    "    inertias.append(model.inertia_)\n",
    "# Grafiklestirme\n",
    "import matplotlib.pyplot as plt\n",
    "import seaborn as sns\n",
    "sns.set()\n",
    "\n",
    "plt.plot(kume_sayisi, inertias, '-o')\n",
    "plt.title('Ideal Kume Sayisi Degisimi')\n",
    "plt.xlabel('Kume Sayisi')\n",
    "plt.ylabel('Inertia Degerleri')\n",
    "plt.xticks(kume_sayisi)\n",
    "plt.show()\n",
    "# Capraz Tablolar (Cross Tab)\n",
    "import pandas as pd\n",
    "model = KMeans(n_clusters = 3)\n",
    "labels = model.fit_predict(wheat)\n",
    "df = pd.DataFrame({'Kume': labels, 'Yer': location})\n",
    "df['Yer'] = df['Yer'].replace({1: 'Kama',2: 'Rosa', 3: 'Canadian'})\n",
    "crosstab = pd.crosstab(df['Kume'], df['Yer'])\n",
    "print(crosstab)"
   ]
  },
  {
   "attachments": {
    "Untitled%20%284%29.png": {
     "image/png": "[encoded data removed]"
    }
   },
   "cell_type": "markdown",
   "metadata": {},
   "source": [
    "![Untitled%20%284%29.png](attachment:Untitled%20%284%29.png)"
   ]
  },
  {
   "cell_type": "raw",
   "metadata": {},
   "source": [
    "Yer   Canadian  Kama  Rosa\n",
    "Kume                      \n",
    "0            2    60    10\n",
    "1            0     1    60\n",
    "2           68     9     0"
   ]
  },
  {
   "cell_type": "code",
   "execution_count": null,
   "metadata": {},
   "outputs": [],
   "source": [
    "# Standard Scaler ile kumeleme performansini arttirmak\n",
    "\n",
    "from sklearn.pipeline import make_pipeline\n",
    "from sklearn.preprocessing import StandardScaler\n",
    "from sklearn.cluster import KMeans\n",
    "\n",
    "scaler = StandardScaler()\n",
    "kmeans = KMeans(n_clusters  = 3)\n",
    "pipeline = make_pipeline(scaler, kmeans)\n",
    "\n",
    "pipeline.fit(wheat)\n",
    "labels = pipeline.predict(wheat)\n",
    "\n",
    "df = pd.DataFrame({'Kume': labels, 'Yer': location})\n",
    "df['Yer'] = df['Yer'].replace({1: 'Kama',2: 'Rosa', 3: 'Canadian'})\n",
    "\n",
    "crosstab = pd.crosstab(df['Kume'], df['Yer'])\n",
    "print(crosstab)"
   ]
  },
  {
   "cell_type": "raw",
   "metadata": {},
   "source": [
    "Yer   Canadian  Kama  Rosa\n",
    "Kume                      \n",
    "0           66     6     0\n",
    "1            0     2    65\n",
    "2            4    62     5"
   ]
  },
  {
   "cell_type": "markdown",
   "metadata": {},
   "source": [
    "Soru 1: **sklearn.preprocessing altında toplam kaç tane metot bulunmaktadır?**"
   ]
  },
  {
   "cell_type": "code",
   "execution_count": 1,
   "metadata": {},
   "outputs": [],
   "source": [
    "#Cevap: 31"
   ]
  },
  {
   "cell_type": "markdown",
   "metadata": {},
   "source": [
    "Soru 2: **Preprocessing işlemleri hangi amaçla yapılır?**"
   ]
  },
  {
   "cell_type": "code",
   "execution_count": 2,
   "metadata": {},
   "outputs": [],
   "source": [
    "#Cevap: Model performansini arttirmak"
   ]
  },
  {
   "cell_type": "markdown",
   "metadata": {},
   "source": [
    "Soru 3: **StandarScaler işlemleri sırasında verilere ait olan hangi parametreler kullanılır?**"
   ]
  },
  {
   "cell_type": "code",
   "execution_count": 4,
   "metadata": {},
   "outputs": [],
   "source": [
    "#Cevap: Ortalama ve Standart Sapma"
   ]
  }
 ],
 "metadata": {
  "kernelspec": {
   "display_name": "Python 3",
   "language": "python",
   "name": "python3"
  },
  "language_info": {
   "codemirror_mode": {
    "name": "ipython",
    "version": 3
   },
   "file_extension": ".py",
   "mimetype": "text/x-python",
   "name": "python",
   "nbconvert_exporter": "python",
   "pygments_lexer": "ipython3",
   "version": "3.8.5"
  }
 },
 "nbformat": 4,
 "nbformat_minor": 4
}
