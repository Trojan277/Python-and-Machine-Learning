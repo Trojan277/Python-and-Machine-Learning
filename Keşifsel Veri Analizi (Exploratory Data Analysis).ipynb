{
 "cells": [
  {
   "cell_type": "markdown",
   "metadata": {},
   "source": [
    "1962'de. The Future of Data Analysis adli makalesinde John Tukey tarafindan ortaya konulan ve genellikle gorsel yontemlerle, temel ozellikleri ozetlemek icin veri setlerini analiz etmeye yonelik bir yaklasimdir."
   ]
  },
  {
   "cell_type": "code",
   "execution_count": null,
   "metadata": {},
   "outputs": [],
   "source": [
    "import pandas as pd\n",
    "swing = pd.read_csv('2008_swing_states.csv')\n",
    "print(swing)"
   ]
  },
  {
   "cell_type": "raw",
   "metadata": {},
   "source": [
    "    state           county  total_votes  dem_votes  rep_votes  dem_share\n",
    "0      PA      Erie County       127691      75775      50351      60.08\n",
    "1      PA  Bradford County        25787      10306      15057      40.64\n",
    "2      PA     Tioga County        17984       6390      11326      36.07\n",
    "3      PA    McKean County        15947       6465       9224      41.21\n",
    "4      PA    Potter County         7507       2300       5109      31.04\n",
    "..    ...              ...          ...        ...        ...        ...\n",
    "217    OH  Hamilton County       425086     225213     195530      53.53\n",
    "218    OH  Highland County        19186       6856      11907      36.54\n",
    "219    OH   Hocking County        12961       6259       6364      49.58\n",
    "220    OH   Licking County        82356      33932      46918      41.97\n",
    "221    OH   Madison County        17454       6532      10606      38.11"
   ]
  },
  {
   "cell_type": "code",
   "execution_count": null,
   "metadata": {},
   "outputs": [],
   "source": [
    "swing[['total_votes', 'dem_votes', 'dem_share']]"
   ]
  },
  {
   "cell_type": "code",
   "execution_count": null,
   "metadata": {},
   "outputs": [],
   "source": []
  },
  {
   "cell_type": "code",
   "execution_count": null,
   "metadata": {},
   "outputs": [],
   "source": [
    "import matplotlib.pyplot as plt\n",
    "plt.hist(swing['dem_share'])\n",
    "plt.xlabel('Demokrat Oy orani(Obama)')\n",
    "plt.show()"
   ]
  },
  {
   "attachments": {
    "Adsz.png": {
     "image/png": "[encoded data removed]"
    }
   },
   "cell_type": "markdown",
   "metadata": {},
   "source": [
    "![Adsz.png](attachment:Adsz.png)"
   ]
  },
  {
   "cell_type": "markdown",
   "metadata": {},
   "source": [
    "Soru 1 : **Keşifsel veri analizi, veri biliminde yapılan öncel çalışmalardandır.**"
   ]
  },
  {
   "cell_type": "code",
   "execution_count": 1,
   "metadata": {},
   "outputs": [],
   "source": [
    "#Cevap : Dogru"
   ]
  },
  {
   "cell_type": "markdown",
   "metadata": {},
   "source": [
    "Soru 2 : **Keşifsel veri analizi çalışmalarının yapılması bir verinin analiz edilmesi için yeterlidir.**"
   ]
  },
  {
   "cell_type": "code",
   "execution_count": 2,
   "metadata": {},
   "outputs": [],
   "source": [
    "#Cevap : Yanlis"
   ]
  }
 ],
 "metadata": {
  "kernelspec": {
   "display_name": "Python 3",
   "language": "python",
   "name": "python3"
  },
  "language_info": {
   "codemirror_mode": {
    "name": "ipython",
    "version": 3
   },
   "file_extension": ".py",
   "mimetype": "text/x-python",
   "name": "python",
   "nbconvert_exporter": "python",
   "pygments_lexer": "ipython3",
   "version": "3.8.5"
  }
 },
 "nbformat": 4,
 "nbformat_minor": 4
}
