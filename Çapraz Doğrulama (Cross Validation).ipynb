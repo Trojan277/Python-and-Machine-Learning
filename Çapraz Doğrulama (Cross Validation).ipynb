{
 "cells": [
  {
   "cell_type": "markdown",
   "metadata": {},
   "source": [
    "Model performansi verinin bolunmesi ile ilgilidir"
   ]
  },
  {
   "cell_type": "code",
   "execution_count": null,
   "metadata": {},
   "outputs": [],
   "source": [
    "import pandas as pd\n",
    "data = pd.read_csv ('boston.csv')\n",
    "# scikit - learn\n",
    "# RM ve MEDV degerleri ayri ayri saklanmalidir\n",
    "X = data.drop('medv', axis =1).values # target variable haric tum veriler\n",
    "y = data['medv'].values\n",
    "data.head()"
   ]
  },
  {
   "attachments": {
    "aa%20%281%29.png": {
     "image/png": "[encoded data removed]"
    }
   },
   "cell_type": "markdown",
   "metadata": {},
   "source": [
    "![aa%20%281%29.png](attachment:aa%20%281%29.png)"
   ]
  },
  {
   "cell_type": "code",
   "execution_count": null,
   "metadata": {},
   "outputs": [],
   "source": [
    "from sklearn.model_selection import train_test_split\n",
    "from sklearn.linear_model import LinearRegression\n",
    "from sklearn.model_selection import cross_val_score\n",
    "reg = LinearRegression()\n",
    "\n",
    "cv = cross_val_score(reg, X, y, cv = 10)\n",
    "print(cv)"
   ]
  },
  {
   "cell_type": "raw",
   "metadata": {},
   "source": [
    "[ 0.74652578  0.38262858 -0.93955099  0.64407185  0.55330205  0.73853434\n",
    "  0.38623252 -0.12519078 -0.74135699  0.39108363]"
   ]
  },
  {
   "cell_type": "code",
   "execution_count": null,
   "metadata": {},
   "outputs": [],
   "source": [
    "import numpy as np\n",
    "print(np.mean(cv))"
   ]
  },
  {
   "cell_type": "markdown",
   "metadata": {},
   "source": [
    "0.2036279973486943"
   ]
  },
  {
   "cell_type": "code",
   "execution_count": null,
   "metadata": {},
   "outputs": [],
   "source": [
    "%timeit cross_val_score(reg, X, y, cv = 10)"
   ]
  },
  {
   "cell_type": "markdown",
   "metadata": {},
   "source": [
    "16.4 ms ± 1.52 ms per loop (mean ± std. dev. of 7 runs, 100 loops each)"
   ]
  },
  {
   "cell_type": "markdown",
   "metadata": {},
   "source": [
    "Soru 1 : **Çapraz doğrulama yapılabilmesi için scikit-learn'den import edilmesi gereken hangisidir?**"
   ]
  },
  {
   "cell_type": "code",
   "execution_count": null,
   "metadata": {},
   "outputs": [],
   "source": [
    "#Cevap : cross_val_score"
   ]
  },
  {
   "cell_type": "markdown",
   "metadata": {},
   "source": [
    "Soru 2: **Çapraz doğrulama fonksiyonunun kullanımında tanımlanması gereken üç parametre hangisidir?**"
   ]
  },
  {
   "cell_type": "code",
   "execution_count": null,
   "metadata": {},
   "outputs": [],
   "source": [
    "#Cevap : cross_val_score(estimator, X, y)"
   ]
  },
  {
   "cell_type": "markdown",
   "metadata": {},
   "source": [
    "Soru 3: **Çapraz doğrulamada yaygın olarak alınan k değeri kaçtır?**"
   ]
  },
  {
   "cell_type": "code",
   "execution_count": null,
   "metadata": {},
   "outputs": [],
   "source": [
    "#Cevap : 5 ve 10"
   ]
  }
 ],
 "metadata": {
  "kernelspec": {
   "display_name": "Python 3",
   "language": "python",
   "name": "python3"
  },
  "language_info": {
   "codemirror_mode": {
    "name": "ipython",
    "version": 3
   },
   "file_extension": ".py",
   "mimetype": "text/x-python",
   "name": "python",
   "nbconvert_exporter": "python",
   "pygments_lexer": "ipython3",
   "version": "3.8.5"
  }
 },
 "nbformat": 4,
 "nbformat_minor": 4
}
