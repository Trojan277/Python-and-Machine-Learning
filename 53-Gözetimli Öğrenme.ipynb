{
 "cells": [
  {
   "cell_type": "markdown",
   "metadata": {},
   "source": [
    "- Gozetimli ogrenme icin tum temel bilgiler ( Supervised Learning)\n",
    "- Tahmin gelistirebilen basit modeller olusturma ( Predictive Models)\n",
    "- Siniflandirma (Classification) ve regresyon (Regression) kullanimi\n",
    "- Asiri uyma (Overfitting) ve yetersiz uyma (Underfitting)\n",
    "- Capraz dogrulama (Cross Valitidation)\n",
    "- Grid aramasi (Grid search)\n",
    "- Regularizasyon\n",
    "- Veri isleme"
   ]
  },
  {
   "cell_type": "markdown",
   "metadata": {},
   "source": [
    "Soru 1: **scikit-learn altında kaç tane lineer model bulunmaktadır?**"
   ]
  },
  {
   "cell_type": "code",
   "execution_count": null,
   "metadata": {},
   "outputs": [],
   "source": [
    "#Cevap : 17"
   ]
  },
  {
   "cell_type": "markdown",
   "metadata": {},
   "source": [
    "Soru 2: **scikit-learn altında kaç tane en yakın komşu yöntemine dayalı model bulunmaktadır?**"
   ]
  },
  {
   "cell_type": "code",
   "execution_count": null,
   "metadata": {},
   "outputs": [],
   "source": [
    "#Cevap : 7"
   ]
  },
  {
   "cell_type": "markdown",
   "metadata": {},
   "source": [
    "scikit-learn.org"
   ]
  }
 ],
 "metadata": {
  "kernelspec": {
   "display_name": "Python 3",
   "language": "python",
   "name": "python3"
  },
  "language_info": {
   "codemirror_mode": {
    "name": "ipython",
    "version": 3
   },
   "file_extension": ".py",
   "mimetype": "text/x-python",
   "name": "python",
   "nbconvert_exporter": "python",
   "pygments_lexer": "ipython3",
   "version": "3.8.5"
  }
 },
 "nbformat": 4,
 "nbformat_minor": 4
}
