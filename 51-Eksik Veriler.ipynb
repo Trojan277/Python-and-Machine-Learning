{
 "cells": [
  {
   "cell_type": "code",
   "execution_count": null,
   "metadata": {},
   "outputs": [],
   "source": [
    "import pandas as pd\n",
    "data = pd.read_csv('diabetes.csv')"
   ]
  },
  {
   "cell_type": "code",
   "execution_count": null,
   "metadata": {},
   "outputs": [],
   "source": [
    "data.info()"
   ]
  },
  {
   "cell_type": "raw",
   "metadata": {},
   "source": [
    "<class 'pandas.core.frame.DataFrame'>\n",
    "RangeIndex: 768 entries, 0 to 767\n",
    "Data columns (total 9 columns):\n",
    " #   Column                    Non-Null Count  Dtype  \n",
    "---  ------                    --------------  -----  \n",
    " 0   Pregnancies               768 non-null    int64  \n",
    " 1   Glucose                   768 non-null    int64  \n",
    " 2   BloodPressure             768 non-null    int64  \n",
    " 3   SkinThickness             768 non-null    int64  \n",
    " 4   Insulin                   768 non-null    int64  \n",
    " 5   BMI                       768 non-null    float64\n",
    " 6   DiabetesPedigreeFunction  768 non-null    float64\n",
    " 7   Age                       768 non-null    int64  \n",
    " 8   Outcome                   768 non-null    int64  \n",
    "dtypes: float64(2), int64(7)\n",
    "memory usage: 54.1 KB"
   ]
  },
  {
   "cell_type": "code",
   "execution_count": null,
   "metadata": {},
   "outputs": [],
   "source": [
    "print(data.head())"
   ]
  },
  {
   "cell_type": "raw",
   "metadata": {},
   "source": [
    "   Pregnancies  Glucose  BloodPressure  SkinThickness  Insulin   BMI  \\\n",
    "0            6      148             72             35        0  33.6   \n",
    "1            1       85             66             29        0  26.6   \n",
    "2            8      183             64              0        0  23.3   \n",
    "3            1       89             66             23       94  28.1   \n",
    "4            0      137             40             35      168  43.1   \n",
    "\n",
    "   DiabetesPedigreeFunction  Age  Outcome  \n",
    "0                     0.627   50        1  \n",
    "1                     0.351   31        0  \n",
    "2                     0.672   32        1  \n",
    "3                     0.167   21        0  \n",
    "4                     2.288   33        1  "
   ]
  },
  {
   "cell_type": "code",
   "execution_count": null,
   "metadata": {},
   "outputs": [],
   "source": [
    "import numpy as np\n",
    "\n",
    "data.SkinThickness.replace(0, np.nan, inplace = True)\n",
    "data.Insulin.replace(0, np.nan, inplace = True)\n",
    "data.BMI.replace(0, np.nan, inplace = True)"
   ]
  },
  {
   "cell_type": "code",
   "execution_count": null,
   "metadata": {},
   "outputs": [],
   "source": [
    "print(data.head())"
   ]
  },
  {
   "cell_type": "raw",
   "metadata": {},
   "source": [
    "   Pregnancies  Glucose  BloodPressure  SkinThickness  Insulin   BMI  \\\n",
    "0            6      148             72           35.0      NaN  33.6   \n",
    "1            1       85             66           29.0      NaN  26.6   \n",
    "2            8      183             64            NaN      NaN  23.3   \n",
    "3            1       89             66           23.0     94.0  28.1   \n",
    "4            0      137             40           35.0    168.0  43.1   \n",
    "\n",
    "   DiabetesPedigreeFunction  Age  Outcome  \n",
    "0                     0.627   50        1  \n",
    "1                     0.351   31        0  \n",
    "2                     0.672   32        1  \n",
    "3                     0.167   21        0  \n",
    "4                     2.288   33        1 "
   ]
  },
  {
   "cell_type": "code",
   "execution_count": null,
   "metadata": {},
   "outputs": [],
   "source": [
    "data2 = data.dropna()\n",
    "\n",
    "data2.shape"
   ]
  },
  {
   "cell_type": "markdown",
   "metadata": {},
   "source": [
    "(393, 9)"
   ]
  },
  {
   "cell_type": "code",
   "execution_count": null,
   "metadata": {},
   "outputs": [],
   "source": [
    "# Impute \n",
    "\n",
    "from sklearn.model_selection import train_test_split\n",
    "from sklearn.impute import SimpleImputer\n",
    "\n",
    "X = data.drop(['Outcome'], axis = 1)\n",
    "y = data['Outcome']\n",
    "\n",
    "imp = SimpleImputer(missing_values = np.nan, strategy = 'mean')\n",
    "imp.fit(X)\n",
    "X = imp.transform(X)\n",
    "\n",
    "X[0:10,4]"
   ]
  },
  {
   "cell_type": "raw",
   "metadata": {},
   "source": [
    "array([155.54822335, 155.54822335, 155.54822335,  94.        ,\n",
    "       168.        , 155.54822335,  88.        , 155.54822335,\n",
    "       543.        , 155.54822335])"
   ]
  },
  {
   "cell_type": "code",
   "execution_count": null,
   "metadata": {},
   "outputs": [],
   "source": [
    "# Pipeline\n",
    "from sklearn.pipeline import Pipeline\n",
    "from sklearn.linear_model import LogisticRegression\n",
    "\n",
    "imp = SimpleImputer(missing_values = np.nan, strategy = 'mean')\n",
    "logreg = LogisticRegression(max_iter = 1000)\n",
    "\n",
    "steps = [('Simple_Imputer', imp), ('LogisticRegression', logreg)]\n",
    "pipeline = Pipeline(steps)"
   ]
  },
  {
   "cell_type": "code",
   "execution_count": null,
   "metadata": {},
   "outputs": [],
   "source": [
    "X_train, X_test, y_train, y_test = train_test_split(X, y, test_size = 0.30, random_state = 30)"
   ]
  },
  {
   "cell_type": "code",
   "execution_count": null,
   "metadata": {},
   "outputs": [],
   "source": [
    "pipeline.fit(X_train, y_train)\n",
    "pipeline.score(X_test, y_test)"
   ]
  },
  {
   "cell_type": "markdown",
   "metadata": {},
   "source": [
    "0.7878787878787878"
   ]
  },
  {
   "cell_type": "code",
   "execution_count": null,
   "metadata": {},
   "outputs": [],
   "source": [
    "from sklearn.metrics import classification_report\n",
    "y_prediction = pipeline.predict(X_test)\n",
    "print(classification_report(y_test, y_prediction))"
   ]
  },
  {
   "cell_type": "raw",
   "metadata": {},
   "source": [
    "              precision    recall  f1-score   support\n",
    "\n",
    "           0       0.83      0.87      0.85       159\n",
    "           1       0.68      0.60      0.64        72\n",
    "\n",
    "    accuracy                           0.79       231\n",
    "   macro avg       0.75      0.74      0.74       231\n",
    "weighted avg       0.78      0.79      0.78       231"
   ]
  },
  {
   "cell_type": "markdown",
   "metadata": {},
   "source": [
    "Soru 1: **Bir veri setinde bulunan ve 0 olarak girilmiş verileri \"NaN\" ile değitirmek için hangisinin uygulanması gerekir?**"
   ]
  },
  {
   "cell_type": "code",
   "execution_count": null,
   "metadata": {},
   "outputs": [],
   "source": [
    "#Cevap : data.sutunadi1.replace(0, np.nan, inplace = True)"
   ]
  },
  {
   "cell_type": "markdown",
   "metadata": {},
   "source": [
    "Soru 2: **SimpleImputer kullanımında \"NaN\" değerleri yerine o sütunda en sık kullanılan değerin konulması isteniyorsa \"strateji\" parametresi olarak hangisi tanımlanmalıdır?**"
   ]
  },
  {
   "cell_type": "code",
   "execution_count": null,
   "metadata": {},
   "outputs": [],
   "source": [
    "#Cevap : most_frequent"
   ]
  },
  {
   "cell_type": "markdown",
   "metadata": {},
   "source": [
    "Soru 3: **Eksik veriler model performansının arttırılması ve veri sayısını mümkün olan en üst düzeye çıkarmak için kullanılır.**"
   ]
  },
  {
   "cell_type": "code",
   "execution_count": 1,
   "metadata": {},
   "outputs": [],
   "source": [
    "#Cevap : Dogru"
   ]
  }
 ],
 "metadata": {
  "kernelspec": {
   "display_name": "Python 3",
   "language": "python",
   "name": "python3"
  },
  "language_info": {
   "codemirror_mode": {
    "name": "ipython",
    "version": 3
   },
   "file_extension": ".py",
   "mimetype": "text/x-python",
   "name": "python",
   "nbconvert_exporter": "python",
   "pygments_lexer": "ipython3",
   "version": "3.8.5"
  }
 },
 "nbformat": 4,
 "nbformat_minor": 4
}
