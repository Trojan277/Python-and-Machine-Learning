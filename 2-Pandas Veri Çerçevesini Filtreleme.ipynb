{
 "cells": [
  {
   "cell_type": "code",
   "execution_count": null,
   "metadata": {},
   "outputs": [],
   "source": [
    "import pandas as pd \n",
    "Türkiye = pd.read_csv(\"Türkiye.csv\",index_col = 0)\n",
    "Türkiye\n",
    "\n",
    "-----------------------------------------------------------\n",
    "Tablo\n",
    "-----------------------------------------------------------\n",
    "\n",
    "# Sütun Seçmek ####################################################\n",
    "Türkiye[\"Yüzölçüm\"]\n",
    "\n",
    "≋≋≋≋≋≋≋≋\n",
    "≋≋≋≋≋≋≋≋\n",
    "≋≋≋≋≋≋≋≋\n",
    "≋≋≋≋≋≋≋≋\n",
    "\n",
    "Türkiye.loc[\"Yüzölçüm\"]\n",
    "\n",
    "≋≋≋≋≋≋≋≋\n",
    "≋≋≋≋≋≋≋≋\n",
    "≋≋≋≋≋≋≋≋\n",
    "≋≋≋≋≋≋≋≋\n",
    "\n",
    "Türkiye.iloc[:,2]\n",
    "\n",
    "≋≋≋≋≋≋≋≋\n",
    "≋≋≋≋≋≋≋≋\n",
    "≋≋≋≋≋≋≋≋\n",
    "≋≋≋≋≋≋≋≋\n",
    "\n",
    "# Karşılaştırma (Sütun için)\n",
    "Türkiye[\"Yüzölçüm\"] > 250000\n",
    "\n",
    "≋≋≋≋≋≋≋  #True-False \n",
    "###################################################################\n",
    "\n",
    "# Boolean Operatörleri\n",
    "# and, or, not\n",
    "# np.logical\n",
    "\n",
    "import numpy as np\n",
    "Türkiye[np.logical_and(Türkiye[\"Nüfus] > 10000000, Türkiye[\"Nüfus\"] <80000000)]\n",
    "\n",
    "≋≋≋≋≋≋ # True-False"
   ]
  },
  {
   "cell_type": "markdown",
   "metadata": {},
   "source": [
    "Soru 1 : **\"Türkiye\" isimli veri çerçevesinin \"Ülke\" sütununu seçmek için yazılması gereken kod hangisidir?**"
   ]
  },
  {
   "cell_type": "markdown",
   "metadata": {},
   "source": [
    "Şıklar: [Ülke], Türkiye[\"Ülke\"], Türkiye.ülke, Türkiye.select[\"Ülke\"]"
   ]
  },
  {
   "cell_type": "code",
   "execution_count": 2,
   "metadata": {},
   "outputs": [],
   "source": [
    "#Cevap : Türkiye[\"Ülke\"]"
   ]
  },
  {
   "cell_type": "markdown",
   "metadata": {},
   "source": [
    "Soru 2 : **\"Türkiye\" isimli veri çerçevesinden Bulgaristan'ın yüzölçüm değerini seçmek için yazılması gereken kod hangisidir?**"
   ]
  },
  {
   "cell_type": "code",
   "execution_count": 3,
   "metadata": {},
   "outputs": [],
   "source": [
    "#Cevap : Türkiye.iloc[1:2,2]"
   ]
  },
  {
   "cell_type": "markdown",
   "metadata": {},
   "source": [
    "Soru 3 : **\"Türkiye\" isimli veri çerçevesinde yer alan ülkelerin nüfusları 5 ile 25 milyon arasında olan ülkeleri seçmek için yazılması gereken kod hangisidir?**"
   ]
  },
  {
   "cell_type": "code",
   "execution_count": 4,
   "metadata": {},
   "outputs": [],
   "source": [
    "#Cevap : Türkiye[np.logical_and(Türkiye[\"Nüfus] > 5000000, Türkiye[\"Nüfus\"] <25000000)]"
   ]
  }
 ],
 "metadata": {
  "kernelspec": {
   "display_name": "Python 3",
   "language": "python",
   "name": "python3"
  },
  "language_info": {
   "codemirror_mode": {
    "name": "ipython",
    "version": 3
   },
   "file_extension": ".py",
   "mimetype": "text/x-python",
   "name": "python",
   "nbconvert_exporter": "python",
   "pygments_lexer": "ipython3",
   "version": "3.8.3"
  }
 },
 "nbformat": 4,
 "nbformat_minor": 4
}
