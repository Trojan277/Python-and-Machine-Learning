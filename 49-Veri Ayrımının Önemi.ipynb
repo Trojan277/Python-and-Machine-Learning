{
 "cells": [
  {
   "cell_type": "markdown",
   "metadata": {},
   "source": [
    "- Modelin yeni veriler karsisindaki performansi ne kadar iyi ? \n",
    "- Tum veri seti capraz dogrulama icin kullanilmalidir \n",
    "- Veri seti daha ilk asamada egitim ve test verisi olarak ikiye ayrilmalidir \n",
    "- Grid Search ve Cross-Validation egitim verisi uzerinde yapilmalidir \n",
    "- HIper-parametre optimizasyonu  gerceklestirilmeli ve test verisi kullanilarak degerlendirme yapilmalidir."
   ]
  },
  {
   "cell_type": "markdown",
   "metadata": {},
   "source": [
    "Soru 1: **Modelin eğitilmesi için tüm veri seti kullanılırsa hangisi durum ortaya çıkar?**"
   ]
  },
  {
   "cell_type": "code",
   "execution_count": null,
   "metadata": {},
   "outputs": [],
   "source": [
    "#Cevap : Overfitting"
   ]
  },
  {
   "cell_type": "markdown",
   "metadata": {},
   "source": [
    "Soru 2: **Bir modelin eğitilmesi sırasında takip edilmesi gereken aşamalar hangi seçenekte doğru olarak verilmiştir?**"
   ]
  },
  {
   "cell_type": "code",
   "execution_count": null,
   "metadata": {},
   "outputs": [],
   "source": [
    "#Cevap : \n",
    "\n",
    "#1  Veri setinin egitim ve test verisi olarak ikiye ayrilmasi \n",
    "#2  Egitim seti kullanilarak modelin egitilmesi \n",
    "#3  Model performansinin kontrol edilmesi \n",
    "#4  Hiper-parametre optimizasyonu"
   ]
  },
  {
   "cell_type": "markdown",
   "metadata": {},
   "source": [
    "Soru 3: **Hiper-parametre optimizasyonu sonrası modelin performansını kontrol etmek için hangi veri seti kullanılmalıdır?**"
   ]
  },
  {
   "cell_type": "code",
   "execution_count": null,
   "metadata": {},
   "outputs": [],
   "source": [
    "#Cevap : Test Verisi"
   ]
  }
 ],
 "metadata": {
  "kernelspec": {
   "display_name": "Python 3",
   "language": "python",
   "name": "python3"
  },
  "language_info": {
   "codemirror_mode": {
    "name": "ipython",
    "version": 3
   },
   "file_extension": ".py",
   "mimetype": "text/x-python",
   "name": "python",
   "nbconvert_exporter": "python",
   "pygments_lexer": "ipython3",
   "version": "3.8.5"
  }
 },
 "nbformat": 4,
 "nbformat_minor": 4
}
