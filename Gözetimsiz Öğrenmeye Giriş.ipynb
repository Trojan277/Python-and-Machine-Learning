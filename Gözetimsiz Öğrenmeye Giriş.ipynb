{
 "cells": [
  {
   "cell_type": "markdown",
   "metadata": {},
   "source": [
    "- Veri setindeki iliskileri ve yapilari bulmayi amaclar"
   ]
  },
  {
   "cell_type": "markdown",
   "metadata": {},
   "source": [
    "## Gozetimli ve Gozetimsiz Ogrenme"
   ]
  },
  {
   "cell_type": "markdown",
   "metadata": {},
   "source": [
    "- Gozetimli ogrenmede bir tahmin modeli gelistirilir (Tahmin var)\n",
    "- Gozetimsiz ogrenmede veri seti analiz edilir (Tahmin yok)"
   ]
  },
  {
   "cell_type": "code",
   "execution_count": null,
   "metadata": {},
   "outputs": [],
   "source": [
    "from sklearn import datasets\n",
    "iris = datasets.load_iris()\n",
    "data = iris.data\n",
    "target = iris.target\n",
    "list(iris.target_names)"
   ]
  },
  {
   "cell_type": "code",
   "execution_count": null,
   "metadata": {},
   "outputs": [],
   "source": [
    "['setosa', 'versicolor', 'virginica']"
   ]
  },
  {
   "cell_type": "code",
   "execution_count": null,
   "metadata": {},
   "outputs": [],
   "source": [
    "target"
   ]
  },
  {
   "cell_type": "raw",
   "metadata": {},
   "source": [
    "array([0, 0, 0, 0, 0, 0, 0, 0, 0, 0, 0, 0, 0, 0, 0, 0, 0, 0, 0, 0, 0, 0,\n",
    "       0, 0, 0, 0, 0, 0, 0, 0, 0, 0, 0, 0, 0, 0, 0, 0, 0, 0, 0, 0, 0, 0,\n",
    "       0, 0, 0, 0, 0, 0, 1, 1, 1, 1, 1, 1, 1, 1, 1, 1, 1, 1, 1, 1, 1, 1,\n",
    "       1, 1, 1, 1, 1, 1, 1, 1, 1, 1, 1, 1, 1, 1, 1, 1, 1, 1, 1, 1, 1, 1,\n",
    "       1, 1, 1, 1, 1, 1, 1, 1, 1, 1, 1, 1, 2, 2, 2, 2, 2, 2, 2, 2, 2, 2,\n",
    "       2, 2, 2, 2, 2, 2, 2, 2, 2, 2, 2, 2, 2, 2, 2, 2, 2, 2, 2, 2, 2, 2,\n",
    "       2, 2, 2, 2, 2, 2, 2, 2, 2, 2, 2, 2, 2, 2, 2, 2, 2, 2])"
   ]
  },
  {
   "cell_type": "code",
   "execution_count": null,
   "metadata": {},
   "outputs": [],
   "source": [
    "print(data)"
   ]
  },
  {
   "cell_type": "raw",
   "metadata": {},
   "source": [
    "[[5.1 3.5 1.4 0.2]\n",
    " [4.9 3.  1.4 0.2]\n",
    " [4.7 3.2 1.3 0.2]\n",
    " [4.6 3.1 1.5 0.2]\n",
    " [5.  3.6 1.4 0.2]\n",
    " [5.4 3.9 1.7 0.4]\n",
    " [4.6 3.4 1.4 0.3]\n",
    " [5.  3.4 1.5 0.2]\n",
    " [4.4 2.9 1.4 0.2]\n",
    " [4.9 3.1 1.5 0.1]\n",
    " [5.4 3.7 1.5 0.2]\n",
    " [4.8 3.4 1.6 0.2]\n",
    " [4.8 3.  1.4 0.1]\n",
    " [4.3 3.  1.1 0.1]\n",
    " [5.8 4.  1.2 0.2]\n",
    " [5.7 4.4 1.5 0.4]\n",
    " [5.4 3.9 1.3 0.4]\n",
    " [5.1 3.5 1.4 0.3]\n",
    " [5.7 3.8 1.7 0.3]\n",
    " [5.1 3.8 1.5 0.3]\n",
    " [5.4 3.4 1.7 0.2]\n",
    " [5.1 3.7 1.5 0.4]\n",
    " [4.6 3.6 1.  0.2]\n",
    " [5.1 3.3 1.7 0.5]\n",
    " [4.8 3.4 1.9 0.2]\n",
    " [5.  3.  1.6 0.2]\n",
    " [5.  3.4 1.6 0.4]\n",
    " [5.2 3.5 1.5 0.2]\n",
    " [5.2 3.4 1.4 0.2]\n",
    " [4.7 3.2 1.6 0.2]\n",
    " [4.8 3.1 1.6 0.2]\n",
    " [5.4 3.4 1.5 0.4]\n",
    " [5.2 4.1 1.5 0.1]\n",
    " [5.5 4.2 1.4 0.2]\n",
    " [4.9 3.1 1.5 0.2]\n",
    " [5.  3.2 1.2 0.2]\n",
    " [5.5 3.5 1.3 0.2]\n",
    " [4.9 3.6 1.4 0.1]\n",
    " [4.4 3.  1.3 0.2]\n",
    " [5.1 3.4 1.5 0.2]\n",
    " [5.  3.5 1.3 0.3]\n",
    " [4.5 2.3 1.3 0.3]\n",
    " [4.4 3.2 1.3 0.2]\n",
    " [5.  3.5 1.6 0.6]\n",
    " [5.1 3.8 1.9 0.4]\n",
    " [4.8 3.  1.4 0.3]\n",
    " [5.1 3.8 1.6 0.2]\n",
    " [4.6 3.2 1.4 0.2]\n",
    " [5.3 3.7 1.5 0.2]\n",
    " [5.  3.3 1.4 0.2]\n",
    " [7.  3.2 4.7 1.4]\n",
    " [6.4 3.2 4.5 1.5]\n",
    " [6.9 3.1 4.9 1.5]\n",
    " [5.5 2.3 4.  1.3]\n",
    " [6.5 2.8 4.6 1.5]\n",
    " [5.7 2.8 4.5 1.3]\n",
    " [6.3 3.3 4.7 1.6]\n",
    " [4.9 2.4 3.3 1. ]\n",
    " [6.6 2.9 4.6 1.3]\n",
    " [5.2 2.7 3.9 1.4]\n",
    " [5.  2.  3.5 1. ]\n",
    " [5.9 3.  4.2 1.5]\n",
    " [6.  2.2 4.  1. ]\n",
    " [6.1 2.9 4.7 1.4]\n",
    " [5.6 2.9 3.6 1.3]\n",
    " [6.7 3.1 4.4 1.4]\n",
    " [5.6 3.  4.5 1.5]\n",
    " [5.8 2.7 4.1 1. ]\n",
    " [6.2 2.2 4.5 1.5]\n",
    " [5.6 2.5 3.9 1.1]\n",
    " [5.9 3.2 4.8 1.8]\n",
    " [6.1 2.8 4.  1.3]\n",
    " [6.3 2.5 4.9 1.5]\n",
    " [6.1 2.8 4.7 1.2]\n",
    " [6.4 2.9 4.3 1.3]\n",
    " [6.6 3.  4.4 1.4]\n",
    " [6.8 2.8 4.8 1.4]\n",
    " [6.7 3.  5.  1.7]\n",
    " [6.  2.9 4.5 1.5]\n",
    " [5.7 2.6 3.5 1. ]\n",
    " [5.5 2.4 3.8 1.1]\n",
    " [5.5 2.4 3.7 1. ]\n",
    " [5.8 2.7 3.9 1.2]\n",
    " [6.  2.7 5.1 1.6]\n",
    " [5.4 3.  4.5 1.5]\n",
    " [6.  3.4 4.5 1.6]\n",
    " [6.7 3.1 4.7 1.5]\n",
    " [6.3 2.3 4.4 1.3]\n",
    " [5.6 3.  4.1 1.3]\n",
    " [5.5 2.5 4.  1.3]\n",
    " [5.5 2.6 4.4 1.2]\n",
    " [6.1 3.  4.6 1.4]\n",
    " [5.8 2.6 4.  1.2]\n",
    " [5.  2.3 3.3 1. ]\n",
    " [5.6 2.7 4.2 1.3]\n",
    " [5.7 3.  4.2 1.2]\n",
    " [5.7 2.9 4.2 1.3]\n",
    " [6.2 2.9 4.3 1.3]\n",
    " [5.1 2.5 3.  1.1]\n",
    " [5.7 2.8 4.1 1.3]\n",
    " [6.3 3.3 6.  2.5]\n",
    " [5.8 2.7 5.1 1.9]\n",
    " [7.1 3.  5.9 2.1]\n",
    " [6.3 2.9 5.6 1.8]\n",
    " [6.5 3.  5.8 2.2]\n",
    " [7.6 3.  6.6 2.1]\n",
    " [4.9 2.5 4.5 1.7]\n",
    " [7.3 2.9 6.3 1.8]\n",
    " [6.7 2.5 5.8 1.8]\n",
    " [7.2 3.6 6.1 2.5]\n",
    " [6.5 3.2 5.1 2. ]\n",
    " [6.4 2.7 5.3 1.9]\n",
    " [6.8 3.  5.5 2.1]\n",
    " [5.7 2.5 5.  2. ]\n",
    " [5.8 2.8 5.1 2.4]\n",
    " [6.4 3.2 5.3 2.3]\n",
    " [6.5 3.  5.5 1.8]\n",
    " [7.7 3.8 6.7 2.2]\n",
    " [7.7 2.6 6.9 2.3]\n",
    " [6.  2.2 5.  1.5]\n",
    " [6.9 3.2 5.7 2.3]\n",
    " [5.6 2.8 4.9 2. ]\n",
    " [7.7 2.8 6.7 2. ]\n",
    " [6.3 2.7 4.9 1.8]\n",
    " [6.7 3.3 5.7 2.1]\n",
    " [7.2 3.2 6.  1.8]\n",
    " [6.2 2.8 4.8 1.8]\n",
    " [6.1 3.  4.9 1.8]\n",
    " [6.4 2.8 5.6 2.1]\n",
    " [7.2 3.  5.8 1.6]\n",
    " [7.4 2.8 6.1 1.9]\n",
    " [7.9 3.8 6.4 2. ]\n",
    " [6.4 2.8 5.6 2.2]\n",
    " [6.3 2.8 5.1 1.5]\n",
    " [6.1 2.6 5.6 1.4]\n",
    " [7.7 3.  6.1 2.3]\n",
    " [6.3 3.4 5.6 2.4]\n",
    " [6.4 3.1 5.5 1.8]\n",
    " [6.  3.  4.8 1.8]\n",
    " [6.9 3.1 5.4 2.1]\n",
    " [6.7 3.1 5.6 2.4]\n",
    " [6.9 3.1 5.1 2.3]\n",
    " [5.8 2.7 5.1 1.9]\n",
    " [6.8 3.2 5.9 2.3]\n",
    " [6.7 3.3 5.7 2.5]\n",
    " [6.7 3.  5.2 2.3]\n",
    " [6.3 2.5 5.  1.9]\n",
    " [6.5 3.  5.2 2. ]\n",
    " [6.2 3.4 5.4 2.3]\n",
    " [5.9 3.  5.1 1.8]]"
   ]
  },
  {
   "cell_type": "code",
   "execution_count": null,
   "metadata": {},
   "outputs": [],
   "source": [
    "type(data)"
   ]
  },
  {
   "cell_type": "code",
   "execution_count": null,
   "metadata": {},
   "outputs": [],
   "source": [
    "# Kumeleme (Clustering)\n",
    "\n",
    "from sklearn.cluster import KMeans\n",
    "\n",
    "model = KMeans(n_clusters = 3)\n",
    "model.fit(data)"
   ]
  },
  {
   "cell_type": "markdown",
   "metadata": {},
   "source": [
    "KMeans(n_clusters=3)"
   ]
  },
  {
   "cell_type": "code",
   "execution_count": null,
   "metadata": {},
   "outputs": [],
   "source": [
    "kume = model.predict(data)\n",
    "print(kume)"
   ]
  },
  {
   "cell_type": "markdown",
   "metadata": {},
   "source": [
    "[1 1 1 1 1 1 1 1 1 1 1 1 1 1 1 1 1 1 1 1 1 1 1 1 1 1 1 1 1 1 1 1 1 1 1 1 1\n",
    " 1 1 1 1 1 1 1 1 1 1 1 1 1 2 2 0 2 2 2 2 2 2 2 2 2 2 2 2 2 2 2 2 2 2 2 2 2\n",
    " 2 2 2 0 2 2 2 2 2 2 2 2 2 2 2 2 2 2 2 2 2 2 2 2 2 2 0 2 0 0 0 0 2 0 0 0 0\n",
    " 0 0 2 2 0 0 0 0 2 0 2 0 2 0 0 2 2 0 0 0 0 0 2 0 0 0 0 2 0 0 0 2 0 0 0 2 0\n",
    " 0 2]"
   ]
  },
  {
   "cell_type": "code",
   "execution_count": null,
   "metadata": {},
   "outputs": [],
   "source": [
    "import matplotlib.pyplot as plt\n",
    "import seaborn as sns\n",
    "sns.set()\n",
    "plt.xlabel('Sepal Lenght')\n",
    "plt.ylabel('Petal Lenght')\n",
    "x = data[:,0]\n",
    "y = data[:,2]\n",
    "plt.scatter(x, y, c = kume)\n",
    "plt.show()"
   ]
  },
  {
   "attachments": {
    "Untitled.png": {
     "image/png": "[encoded data removed]"
    }
   },
   "cell_type": "markdown",
   "metadata": {},
   "source": [
    "![Untitled.png](attachment:Untitled.png)"
   ]
  },
  {
   "cell_type": "code",
   "execution_count": null,
   "metadata": {},
   "outputs": [],
   "source": [
    "# Yeni Veriler\n",
    "# Centroids\n",
    "centroids = model.cluster_centers_\n",
    "centroid_x = centroids[:,0]\n",
    "centroid_y = centroids[:,2]\n",
    "plt.scatter(centroid_x, centroid_y, marker = 'D', c = 'red', s = 10)\n",
    "plt.show()"
   ]
  },
  {
   "attachments": {
    "Untitled%20%281%29.png": {
     "image/png": "[encoded data removed]"
    }
   },
   "cell_type": "markdown",
   "metadata": {},
   "source": [
    "![Untitled%20%281%29.png](attachment:Untitled%20%281%29.png)"
   ]
  },
  {
   "cell_type": "code",
   "execution_count": null,
   "metadata": {},
   "outputs": [],
   "source": [
    "# 2 Grafik birlestirme\n",
    "plt.scatter(x, y, c = kume)\n",
    "plt.scatter(centroid_x, centroid_y, marker = 'D', c = 'blue', s = 100)\n",
    "plt.xlabel('Sepal Lenght')\n",
    "plt.ylabel('Petal Lenght')\n",
    "plt.show()"
   ]
  },
  {
   "attachments": {
    "Untitled%20%282%29.png": {
     "image/png": "[encoded data removed]"
    }
   },
   "cell_type": "markdown",
   "metadata": {},
   "source": [
    "![Untitled%20%282%29.png](attachment:Untitled%20%282%29.png)"
   ]
  },
  {
   "cell_type": "markdown",
   "metadata": {},
   "source": [
    "Soru 1: **Gözetimsiz öğrenme veri setini analiz ederek yorumlamaya çalışır.**"
   ]
  },
  {
   "cell_type": "code",
   "execution_count": 2,
   "metadata": {},
   "outputs": [],
   "source": [
    "#Cevap: Dogru"
   ]
  },
  {
   "cell_type": "markdown",
   "metadata": {},
   "source": [
    "Soru 2: **Kümeleme (clustering) için küme sayısı önceden tanımlanmalıdır.**"
   ]
  },
  {
   "cell_type": "code",
   "execution_count": 4,
   "metadata": {},
   "outputs": [],
   "source": [
    "#Cevap: Dogru"
   ]
  },
  {
   "cell_type": "markdown",
   "metadata": {},
   "source": [
    "Soru 3: **\"Centorid\" kavramı neyi ifade eder?**"
   ]
  },
  {
   "cell_type": "code",
   "execution_count": 5,
   "metadata": {},
   "outputs": [],
   "source": [
    "#Cevap: Her kumedeki verilerin merkezini"
   ]
  }
 ],
 "metadata": {
  "kernelspec": {
   "display_name": "Python 3",
   "language": "python",
   "name": "python3"
  },
  "language_info": {
   "codemirror_mode": {
    "name": "ipython",
    "version": 3
   },
   "file_extension": ".py",
   "mimetype": "text/x-python",
   "name": "python",
   "nbconvert_exporter": "python",
   "pygments_lexer": "ipython3",
   "version": "3.8.5"
  }
 },
 "nbformat": 4,
 "nbformat_minor": 4
}
